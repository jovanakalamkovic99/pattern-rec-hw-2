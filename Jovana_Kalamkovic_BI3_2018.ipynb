{
  "nbformat": 4,
  "nbformat_minor": 0,
  "metadata": {
    "colab": {
      "provenance": [],
      "authorship_tag": "ABX9TyNx9jbGlwE1lI8LfkGXPY+q",
      "include_colab_link": true
    },
    "kernelspec": {
      "name": "python3",
      "display_name": "Python 3"
    },
    "language_info": {
      "name": "python"
    }
  },
  "cells": [
    {
      "cell_type": "markdown",
      "metadata": {
        "id": "view-in-github",
        "colab_type": "text"
      },
      "source": [
        "<a href=\"https://colab.research.google.com/github/jovanakalamkovic99/pattern-rec-hw-2/blob/main/Jovana_Kalamkovic_BI3_2018.ipynb\" target=\"_parent\"><img src=\"https://colab.research.google.com/assets/colab-badge.svg\" alt=\"Open In Colab\"/></a>"
      ]
    },
    {
      "cell_type": "code",
      "metadata": {
        "id": "1B8YiP5WAgD7"
      },
      "source": [
        "# imports\n",
        "import numpy as np\n",
        "import pandas as pd\n",
        "import seaborn as sb\n",
        "import matplotlib.pyplot as plt\n",
        "from sklearn.model_selection import train_test_split\n",
        "from sklearn.preprocessing import StandardScaler, PolynomialFeatures\n",
        "from sklearn.linear_model import LinearRegression, Ridge, Lasso\n",
        "from sklearn.metrics import mean_squared_error, mean_absolute_error, r2_score\n",
        "from sklearn import datasets"
      ],
      "execution_count": null,
      "outputs": []
    },
    {
      "cell_type": "code",
      "metadata": {
        "id": "oaI_Hn8qr7kF"
      },
      "source": [
        "#from google.colab import drive\n",
        "#drive.mount('/content/drive')"
      ],
      "execution_count": null,
      "outputs": []
    },
    {
      "cell_type": "code",
      "metadata": {
        "id": "2deeeFMlAg7e"
      },
      "source": [
        "df= pd.read_csv(\"ShanghaiPM20100101_20151231.csv\")"
      ],
      "execution_count": null,
      "outputs": []
    },
    {
      "cell_type": "code",
      "metadata": {
        "id": "GuDQ3FaiAqpS",
        "colab": {
          "base_uri": "https://localhost:8080/",
          "height": 643
        },
        "outputId": "2a02cf9e-1564-432f-b6c0-744442db7acf"
      },
      "source": [
        "print(\"shape: \\n\", df.shape)\n",
        "print(\"\\n types:\\n\", df.dtypes, \"\\n\")\n",
        "df.head()"
      ],
      "execution_count": null,
      "outputs": [
        {
          "output_type": "stream",
          "name": "stdout",
          "text": [
            "shape: \n",
            " (52584, 17)\n",
            "\n",
            " types:\n",
            " No                 int64\n",
            "year               int64\n",
            "month              int64\n",
            "day                int64\n",
            "hour               int64\n",
            "season             int64\n",
            "PM_Jingan        float64\n",
            "PM_US Post       float64\n",
            "PM_Xuhui         float64\n",
            "DEWP             float64\n",
            "HUMI             float64\n",
            "PRES             float64\n",
            "TEMP             float64\n",
            "cbwd              object\n",
            "Iws              float64\n",
            "precipitation    float64\n",
            "Iprec            float64\n",
            "dtype: object \n",
            "\n"
          ]
        },
        {
          "output_type": "execute_result",
          "data": {
            "text/html": [
              "<div>\n",
              "<style scoped>\n",
              "    .dataframe tbody tr th:only-of-type {\n",
              "        vertical-align: middle;\n",
              "    }\n",
              "\n",
              "    .dataframe tbody tr th {\n",
              "        vertical-align: top;\n",
              "    }\n",
              "\n",
              "    .dataframe thead th {\n",
              "        text-align: right;\n",
              "    }\n",
              "</style>\n",
              "<table border=\"1\" class=\"dataframe\">\n",
              "  <thead>\n",
              "    <tr style=\"text-align: right;\">\n",
              "      <th></th>\n",
              "      <th>No</th>\n",
              "      <th>year</th>\n",
              "      <th>month</th>\n",
              "      <th>day</th>\n",
              "      <th>hour</th>\n",
              "      <th>season</th>\n",
              "      <th>PM_Jingan</th>\n",
              "      <th>PM_US Post</th>\n",
              "      <th>PM_Xuhui</th>\n",
              "      <th>DEWP</th>\n",
              "      <th>HUMI</th>\n",
              "      <th>PRES</th>\n",
              "      <th>TEMP</th>\n",
              "      <th>cbwd</th>\n",
              "      <th>Iws</th>\n",
              "      <th>precipitation</th>\n",
              "      <th>Iprec</th>\n",
              "    </tr>\n",
              "  </thead>\n",
              "  <tbody>\n",
              "    <tr>\n",
              "      <th>0</th>\n",
              "      <td>1</td>\n",
              "      <td>2010</td>\n",
              "      <td>1</td>\n",
              "      <td>1</td>\n",
              "      <td>0</td>\n",
              "      <td>4</td>\n",
              "      <td>NaN</td>\n",
              "      <td>NaN</td>\n",
              "      <td>NaN</td>\n",
              "      <td>-6.0</td>\n",
              "      <td>59.48</td>\n",
              "      <td>1026.1</td>\n",
              "      <td>1.0</td>\n",
              "      <td>cv</td>\n",
              "      <td>1.0</td>\n",
              "      <td>0.0</td>\n",
              "      <td>0.0</td>\n",
              "    </tr>\n",
              "    <tr>\n",
              "      <th>1</th>\n",
              "      <td>2</td>\n",
              "      <td>2010</td>\n",
              "      <td>1</td>\n",
              "      <td>1</td>\n",
              "      <td>1</td>\n",
              "      <td>4</td>\n",
              "      <td>NaN</td>\n",
              "      <td>NaN</td>\n",
              "      <td>NaN</td>\n",
              "      <td>-6.0</td>\n",
              "      <td>59.48</td>\n",
              "      <td>1025.1</td>\n",
              "      <td>1.0</td>\n",
              "      <td>SE</td>\n",
              "      <td>2.0</td>\n",
              "      <td>0.0</td>\n",
              "      <td>0.0</td>\n",
              "    </tr>\n",
              "    <tr>\n",
              "      <th>2</th>\n",
              "      <td>3</td>\n",
              "      <td>2010</td>\n",
              "      <td>1</td>\n",
              "      <td>1</td>\n",
              "      <td>2</td>\n",
              "      <td>4</td>\n",
              "      <td>NaN</td>\n",
              "      <td>NaN</td>\n",
              "      <td>NaN</td>\n",
              "      <td>-7.0</td>\n",
              "      <td>59.21</td>\n",
              "      <td>1025.1</td>\n",
              "      <td>0.0</td>\n",
              "      <td>SE</td>\n",
              "      <td>4.0</td>\n",
              "      <td>0.0</td>\n",
              "      <td>0.0</td>\n",
              "    </tr>\n",
              "    <tr>\n",
              "      <th>3</th>\n",
              "      <td>4</td>\n",
              "      <td>2010</td>\n",
              "      <td>1</td>\n",
              "      <td>1</td>\n",
              "      <td>3</td>\n",
              "      <td>4</td>\n",
              "      <td>NaN</td>\n",
              "      <td>NaN</td>\n",
              "      <td>NaN</td>\n",
              "      <td>-6.0</td>\n",
              "      <td>63.94</td>\n",
              "      <td>1024.0</td>\n",
              "      <td>0.0</td>\n",
              "      <td>SE</td>\n",
              "      <td>5.0</td>\n",
              "      <td>0.0</td>\n",
              "      <td>0.0</td>\n",
              "    </tr>\n",
              "    <tr>\n",
              "      <th>4</th>\n",
              "      <td>5</td>\n",
              "      <td>2010</td>\n",
              "      <td>1</td>\n",
              "      <td>1</td>\n",
              "      <td>4</td>\n",
              "      <td>4</td>\n",
              "      <td>NaN</td>\n",
              "      <td>NaN</td>\n",
              "      <td>NaN</td>\n",
              "      <td>-6.0</td>\n",
              "      <td>63.94</td>\n",
              "      <td>1023.0</td>\n",
              "      <td>0.0</td>\n",
              "      <td>SE</td>\n",
              "      <td>8.0</td>\n",
              "      <td>0.0</td>\n",
              "      <td>0.0</td>\n",
              "    </tr>\n",
              "  </tbody>\n",
              "</table>\n",
              "</div>"
            ],
            "text/plain": [
              "   No  year  month  day  hour  ...  TEMP  cbwd  Iws  precipitation  Iprec\n",
              "0   1  2010      1    1     0  ...   1.0    cv  1.0            0.0    0.0\n",
              "1   2  2010      1    1     1  ...   1.0    SE  2.0            0.0    0.0\n",
              "2   3  2010      1    1     2  ...   0.0    SE  4.0            0.0    0.0\n",
              "3   4  2010      1    1     3  ...   0.0    SE  5.0            0.0    0.0\n",
              "4   5  2010      1    1     4  ...   0.0    SE  8.0            0.0    0.0\n",
              "\n",
              "[5 rows x 17 columns]"
            ]
          },
          "metadata": {},
          "execution_count": 3
        }
      ]
    },
    {
      "cell_type": "code",
      "metadata": {
        "id": "JMfdFeJ9A_6z",
        "colab": {
          "base_uri": "https://localhost:8080/"
        },
        "outputId": "a93dce18-abee-48c5-e29b-f44bdeb27d5e"
      },
      "source": [
        "print(df.info())"
      ],
      "execution_count": null,
      "outputs": [
        {
          "output_type": "stream",
          "name": "stdout",
          "text": [
            "<class 'pandas.core.frame.DataFrame'>\n",
            "RangeIndex: 52584 entries, 0 to 52583\n",
            "Data columns (total 17 columns):\n",
            " #   Column         Non-Null Count  Dtype  \n",
            "---  ------         --------------  -----  \n",
            " 0   No             52584 non-null  int64  \n",
            " 1   year           52584 non-null  int64  \n",
            " 2   month          52584 non-null  int64  \n",
            " 3   day            52584 non-null  int64  \n",
            " 4   hour           52584 non-null  int64  \n",
            " 5   season         52584 non-null  int64  \n",
            " 6   PM_Jingan      24700 non-null  float64\n",
            " 7   PM_US Post     34039 non-null  float64\n",
            " 8   PM_Xuhui       25189 non-null  float64\n",
            " 9   DEWP           52571 non-null  float64\n",
            " 10  HUMI           52571 non-null  float64\n",
            " 11  PRES           52556 non-null  float64\n",
            " 12  TEMP           52571 non-null  float64\n",
            " 13  cbwd           52572 non-null  object \n",
            " 14  Iws            52572 non-null  float64\n",
            " 15  precipitation  48575 non-null  float64\n",
            " 16  Iprec          48575 non-null  float64\n",
            "dtypes: float64(10), int64(6), object(1)\n",
            "memory usage: 6.8+ MB\n",
            "None\n"
          ]
        }
      ]
    },
    {
      "cell_type": "code",
      "metadata": {
        "id": "z25OeokSIii2",
        "colab": {
          "base_uri": "https://localhost:8080/"
        },
        "outputId": "a0453e87-e79e-487e-c98c-57e74be2bfcc"
      },
      "source": [
        "df.loc[df['DEWP'].isnull()].index"
      ],
      "execution_count": null,
      "outputs": [
        {
          "output_type": "execute_result",
          "data": {
            "text/plain": [
              "Int64Index([23, 24, 340, 341, 342, 3602, 10924, 12432, 27926, 28004, 31927,\n",
              "            41426, 43961],\n",
              "           dtype='int64')"
            ]
          },
          "metadata": {},
          "execution_count": 5
        }
      ]
    },
    {
      "cell_type": "code",
      "metadata": {
        "colab": {
          "base_uri": "https://localhost:8080/"
        },
        "id": "Hss3b-aPvQ3t",
        "outputId": "91437105-1b16-45b1-a73c-f18f8c2ad45b"
      },
      "source": [
        "df.loc[df['PRES'].isnull()].index"
      ],
      "execution_count": null,
      "outputs": [
        {
          "output_type": "execute_result",
          "data": {
            "text/plain": [
              "Int64Index([   23,    24,   340,   341,   342,  3602, 10924, 12432, 27926,\n",
              "            28004, 31927, 41426, 48423, 48424, 48425, 48426, 48427, 48428,\n",
              "            48429, 48430, 48431, 48432, 48433, 48434, 48435, 48436, 48437,\n",
              "            48438],\n",
              "           dtype='int64')"
            ]
          },
          "metadata": {},
          "execution_count": 6
        }
      ]
    },
    {
      "cell_type": "code",
      "metadata": {
        "id": "ftM4sJrZvHbx",
        "colab": {
          "base_uri": "https://localhost:8080/"
        },
        "outputId": "4b74930c-7a58-4f61-be63-6c1e015f9853"
      },
      "source": [
        "df.loc[df['precipitation'].isnull()].index"
      ],
      "execution_count": null,
      "outputs": [
        {
          "output_type": "execute_result",
          "data": {
            "text/plain": [
              "Int64Index([  230,   584,   812,   813,   875,   995,  1384,  1900,  2095,\n",
              "             2159,\n",
              "            ...\n",
              "            52540, 52541, 52542, 52543, 52544, 52554, 52555, 52557, 52558,\n",
              "            52559],\n",
              "           dtype='int64', length=4009)"
            ]
          },
          "metadata": {},
          "execution_count": 7
        }
      ]
    },
    {
      "cell_type": "code",
      "metadata": {
        "id": "0Gzg6WOOvNBP",
        "colab": {
          "base_uri": "https://localhost:8080/"
        },
        "outputId": "ab355b75-b1ca-4c14-ebc4-3cd39717f378"
      },
      "source": [
        "df.loc[df['Iprec'].isnull()].index"
      ],
      "execution_count": null,
      "outputs": [
        {
          "output_type": "execute_result",
          "data": {
            "text/plain": [
              "Int64Index([  230,   584,   812,   813,   875,   995,  1384,  1900,  2095,\n",
              "             2159,\n",
              "            ...\n",
              "            52540, 52541, 52542, 52543, 52544, 52554, 52555, 52557, 52558,\n",
              "            52559],\n",
              "           dtype='int64', length=4009)"
            ]
          },
          "metadata": {},
          "execution_count": 8
        }
      ]
    },
    {
      "cell_type": "code",
      "metadata": {
        "id": "xNqo4Ms4vPG6",
        "colab": {
          "base_uri": "https://localhost:8080/"
        },
        "outputId": "0732dbbd-da41-4aff-e1fc-dbbc7d4baa41"
      },
      "source": [
        "df.loc[df['HUMI'].isnull()].index"
      ],
      "execution_count": null,
      "outputs": [
        {
          "output_type": "execute_result",
          "data": {
            "text/plain": [
              "Int64Index([23, 24, 340, 341, 342, 3602, 10924, 12432, 27926, 28004, 31927,\n",
              "            41426, 43961],\n",
              "           dtype='int64')"
            ]
          },
          "metadata": {},
          "execution_count": 9
        }
      ]
    },
    {
      "cell_type": "code",
      "metadata": {
        "id": "QVuWE9U2vShp",
        "colab": {
          "base_uri": "https://localhost:8080/"
        },
        "outputId": "5b0f4313-8c04-42cb-efe3-46b2092b4b0c"
      },
      "source": [
        "df.loc[df['TEMP'].isnull()].index"
      ],
      "execution_count": null,
      "outputs": [
        {
          "output_type": "execute_result",
          "data": {
            "text/plain": [
              "Int64Index([23, 24, 340, 341, 342, 3602, 10924, 12432, 27926, 28004, 31927,\n",
              "            41426, 43961],\n",
              "           dtype='int64')"
            ]
          },
          "metadata": {},
          "execution_count": 10
        }
      ]
    },
    {
      "cell_type": "code",
      "metadata": {
        "id": "qBaRN-khvUcC",
        "colab": {
          "base_uri": "https://localhost:8080/"
        },
        "outputId": "7857ed98-dc16-4601-c02e-0474e08bc426"
      },
      "source": [
        "df.loc[df['cbwd'].isnull()].index"
      ],
      "execution_count": null,
      "outputs": [
        {
          "output_type": "execute_result",
          "data": {
            "text/plain": [
              "Int64Index([23, 24, 340, 341, 342, 3602, 10924, 12432, 27926, 28004, 31927,\n",
              "            41426],\n",
              "           dtype='int64')"
            ]
          },
          "metadata": {},
          "execution_count": 11
        }
      ]
    },
    {
      "cell_type": "code",
      "metadata": {
        "id": "O-6kmMcwvWa4",
        "colab": {
          "base_uri": "https://localhost:8080/"
        },
        "outputId": "604ac32b-229a-429d-96c4-c245558548ed"
      },
      "source": [
        "df.loc[df['Iws'].isnull()].index"
      ],
      "execution_count": null,
      "outputs": [
        {
          "output_type": "execute_result",
          "data": {
            "text/plain": [
              "Int64Index([23, 24, 340, 341, 342, 3602, 10924, 12432, 27926, 28004, 31927,\n",
              "            41426],\n",
              "           dtype='int64')"
            ]
          },
          "metadata": {},
          "execution_count": 12
        }
      ]
    },
    {
      "cell_type": "code",
      "metadata": {
        "id": "h3-AOCinI8Rt"
      },
      "source": [
        "df.drop([ 23,    24,   340,   341,   342,  3602, 10924, 12432, 27926,\n",
        "            28004, 31927, 41426, 48423, 48424, 48425, 48426, 48427, 48428,\n",
        "            48429, 48430, 48431, 48432, 48433, 48434, 48435, 48436, 48437,\n",
        "            48438, 43961], inplace= True, axis = 0)"
      ],
      "execution_count": null,
      "outputs": []
    },
    {
      "cell_type": "code",
      "metadata": {
        "colab": {
          "base_uri": "https://localhost:8080/",
          "height": 583
        },
        "id": "MnqY2oFivoho",
        "outputId": "d5c46074-dbea-4006-b9c7-4bfed8bd0ad6"
      },
      "source": [
        "total = df.isnull().sum().sort_values(ascending=False)\n",
        "percent = (df.isnull().sum()/len(df)).sort_values(ascending=False)*100\n",
        "missing_data = pd.concat([total, percent], axis=1, keys=['Total', 'Percent'])\n",
        "missing_data.head(20)"
      ],
      "execution_count": null,
      "outputs": [
        {
          "output_type": "execute_result",
          "data": {
            "text/html": [
              "<div>\n",
              "<style scoped>\n",
              "    .dataframe tbody tr th:only-of-type {\n",
              "        vertical-align: middle;\n",
              "    }\n",
              "\n",
              "    .dataframe tbody tr th {\n",
              "        vertical-align: top;\n",
              "    }\n",
              "\n",
              "    .dataframe thead th {\n",
              "        text-align: right;\n",
              "    }\n",
              "</style>\n",
              "<table border=\"1\" class=\"dataframe\">\n",
              "  <thead>\n",
              "    <tr style=\"text-align: right;\">\n",
              "      <th></th>\n",
              "      <th>Total</th>\n",
              "      <th>Percent</th>\n",
              "    </tr>\n",
              "  </thead>\n",
              "  <tbody>\n",
              "    <tr>\n",
              "      <th>PM_Jingan</th>\n",
              "      <td>27876</td>\n",
              "      <td>53.041575</td>\n",
              "    </tr>\n",
              "    <tr>\n",
              "      <th>PM_Xuhui</th>\n",
              "      <td>27384</td>\n",
              "      <td>52.105413</td>\n",
              "    </tr>\n",
              "    <tr>\n",
              "      <th>PM_US Post</th>\n",
              "      <td>18536</td>\n",
              "      <td>35.269717</td>\n",
              "    </tr>\n",
              "    <tr>\n",
              "      <th>precipitation</th>\n",
              "      <td>4006</td>\n",
              "      <td>7.622491</td>\n",
              "    </tr>\n",
              "    <tr>\n",
              "      <th>Iprec</th>\n",
              "      <td>4006</td>\n",
              "      <td>7.622491</td>\n",
              "    </tr>\n",
              "    <tr>\n",
              "      <th>PRES</th>\n",
              "      <td>0</td>\n",
              "      <td>0.000000</td>\n",
              "    </tr>\n",
              "    <tr>\n",
              "      <th>HUMI</th>\n",
              "      <td>0</td>\n",
              "      <td>0.000000</td>\n",
              "    </tr>\n",
              "    <tr>\n",
              "      <th>DEWP</th>\n",
              "      <td>0</td>\n",
              "      <td>0.000000</td>\n",
              "    </tr>\n",
              "    <tr>\n",
              "      <th>TEMP</th>\n",
              "      <td>0</td>\n",
              "      <td>0.000000</td>\n",
              "    </tr>\n",
              "    <tr>\n",
              "      <th>cbwd</th>\n",
              "      <td>0</td>\n",
              "      <td>0.000000</td>\n",
              "    </tr>\n",
              "    <tr>\n",
              "      <th>Iws</th>\n",
              "      <td>0</td>\n",
              "      <td>0.000000</td>\n",
              "    </tr>\n",
              "    <tr>\n",
              "      <th>season</th>\n",
              "      <td>0</td>\n",
              "      <td>0.000000</td>\n",
              "    </tr>\n",
              "    <tr>\n",
              "      <th>hour</th>\n",
              "      <td>0</td>\n",
              "      <td>0.000000</td>\n",
              "    </tr>\n",
              "    <tr>\n",
              "      <th>day</th>\n",
              "      <td>0</td>\n",
              "      <td>0.000000</td>\n",
              "    </tr>\n",
              "    <tr>\n",
              "      <th>month</th>\n",
              "      <td>0</td>\n",
              "      <td>0.000000</td>\n",
              "    </tr>\n",
              "    <tr>\n",
              "      <th>year</th>\n",
              "      <td>0</td>\n",
              "      <td>0.000000</td>\n",
              "    </tr>\n",
              "    <tr>\n",
              "      <th>No</th>\n",
              "      <td>0</td>\n",
              "      <td>0.000000</td>\n",
              "    </tr>\n",
              "  </tbody>\n",
              "</table>\n",
              "</div>"
            ],
            "text/plain": [
              "               Total    Percent\n",
              "PM_Jingan      27876  53.041575\n",
              "PM_Xuhui       27384  52.105413\n",
              "PM_US Post     18536  35.269717\n",
              "precipitation   4006   7.622491\n",
              "Iprec           4006   7.622491\n",
              "PRES               0   0.000000\n",
              "HUMI               0   0.000000\n",
              "DEWP               0   0.000000\n",
              "TEMP               0   0.000000\n",
              "cbwd               0   0.000000\n",
              "Iws                0   0.000000\n",
              "season             0   0.000000\n",
              "hour               0   0.000000\n",
              "day                0   0.000000\n",
              "month              0   0.000000\n",
              "year               0   0.000000\n",
              "No                 0   0.000000"
            ]
          },
          "metadata": {},
          "execution_count": 14
        }
      ]
    },
    {
      "cell_type": "code",
      "metadata": {
        "id": "Ww-T10w4xK92"
      },
      "source": [
        "df['precipitation'].fillna(df['precipitation'].median(), inplace=True)"
      ],
      "execution_count": null,
      "outputs": []
    },
    {
      "cell_type": "code",
      "metadata": {
        "id": "rSLrsb1NxQkT"
      },
      "source": [
        "df['Iprec'].fillna(df['Iprec'].median(), inplace=True)"
      ],
      "execution_count": null,
      "outputs": []
    },
    {
      "cell_type": "code",
      "metadata": {
        "id": "awhZGEeUJwBe",
        "colab": {
          "base_uri": "https://localhost:8080/",
          "height": 269
        },
        "outputId": "7a9d6141-7965-4139-b99c-ba36368192a0"
      },
      "source": [
        "sb.boxplot(y='year',data=df)"
      ],
      "execution_count": null,
      "outputs": [
        {
          "output_type": "execute_result",
          "data": {
            "text/plain": [
              "<matplotlib.axes._subplots.AxesSubplot at 0x7f17b2e9ae50>"
            ]
          },
          "metadata": {},
          "execution_count": 17
        },
        {
          "output_type": "display_data",
          "data": {
            "image/png": "[encoded data removed]",
            "text/plain": [
              "<Figure size 432x288 with 1 Axes>"
            ]
          },
          "metadata": {
            "needs_background": "light"
          }
        }
      ]
    },
    {
      "cell_type": "code",
      "metadata": {
        "id": "dSXm4YEHK6sJ",
        "colab": {
          "base_uri": "https://localhost:8080/",
          "height": 269
        },
        "outputId": "c7ac6b8d-55cc-433e-d046-5420aa864406"
      },
      "source": [
        "sb.boxplot(y='month',data=df)"
      ],
      "execution_count": null,
      "outputs": [
        {
          "output_type": "execute_result",
          "data": {
            "text/plain": [
              "<matplotlib.axes._subplots.AxesSubplot at 0x7f17b25c6dd0>"
            ]
          },
          "metadata": {},
          "execution_count": 18
        },
        {
          "output_type": "display_data",
          "data": {
            "image/png": "[encoded data removed]",
            "text/plain": [
              "<Figure size 432x288 with 1 Axes>"
            ]
          },
          "metadata": {
            "needs_background": "light"
          }
        }
      ]
    },
    {
      "cell_type": "code",
      "metadata": {
        "id": "cKjNXT5aK6ox",
        "colab": {
          "base_uri": "https://localhost:8080/",
          "height": 269
        },
        "outputId": "ff2af0ba-1c18-4afa-d1a1-199e8dceee53"
      },
      "source": [
        "sb.boxplot(y='day',data=df)"
      ],
      "execution_count": null,
      "outputs": [
        {
          "output_type": "execute_result",
          "data": {
            "text/plain": [
              "<matplotlib.axes._subplots.AxesSubplot at 0x7f17b2103450>"
            ]
          },
          "metadata": {},
          "execution_count": 19
        },
        {
          "output_type": "display_data",
          "data": {
            "image/png": "[encoded data removed]",
            "text/plain": [
              "<Figure size 432x288 with 1 Axes>"
            ]
          },
          "metadata": {
            "needs_background": "light"
          }
        }
      ]
    },
    {
      "cell_type": "code",
      "metadata": {
        "id": "aiiHD3UfK6kA",
        "colab": {
          "base_uri": "https://localhost:8080/",
          "height": 269
        },
        "outputId": "a160681c-cb92-4385-b91c-e492a1874010"
      },
      "source": [
        "sb.boxplot(y='hour',data=df)"
      ],
      "execution_count": null,
      "outputs": [
        {
          "output_type": "execute_result",
          "data": {
            "text/plain": [
              "<matplotlib.axes._subplots.AxesSubplot at 0x7f17b208d210>"
            ]
          },
          "metadata": {},
          "execution_count": 20
        },
        {
          "output_type": "display_data",
          "data": {
            "image/png": "[encoded data removed]",
            "text/plain": [
              "<Figure size 432x288 with 1 Axes>"
            ]
          },
          "metadata": {
            "needs_background": "light"
          }
        }
      ]
    },
    {
      "cell_type": "code",
      "metadata": {
        "id": "3tZ8DhlyK6d0",
        "colab": {
          "base_uri": "https://localhost:8080/",
          "height": 269
        },
        "outputId": "fbe1eae9-d6ac-42b0-e3e3-a4af5539b506"
      },
      "source": [
        "sb.boxplot(y='season',data=df)"
      ],
      "execution_count": null,
      "outputs": [
        {
          "output_type": "execute_result",
          "data": {
            "text/plain": [
              "<matplotlib.axes._subplots.AxesSubplot at 0x7f17b1ff5d50>"
            ]
          },
          "metadata": {},
          "execution_count": 21
        },
        {
          "output_type": "display_data",
          "data": {
            "image/png": "[encoded data removed]",
            "text/plain": [
              "<Figure size 432x288 with 1 Axes>"
            ]
          },
          "metadata": {
            "needs_background": "light"
          }
        }
      ]
    },
    {
      "cell_type": "code",
      "metadata": {
        "id": "BdgsjhKfK6Xi",
        "colab": {
          "base_uri": "https://localhost:8080/",
          "height": 269
        },
        "outputId": "b89679dd-1b26-4210-8d2d-6f8ee17b7988"
      },
      "source": [
        "sb.boxplot(y='PM_US Post',data=df)"
      ],
      "execution_count": null,
      "outputs": [
        {
          "output_type": "execute_result",
          "data": {
            "text/plain": [
              "<matplotlib.axes._subplots.AxesSubplot at 0x7f17b1fdfc50>"
            ]
          },
          "metadata": {},
          "execution_count": 22
        },
        {
          "output_type": "display_data",
          "data": {
            "image/png": "[encoded data removed]",
            "text/plain": [
              "<Figure size 432x288 with 1 Axes>"
            ]
          },
          "metadata": {
            "needs_background": "light"
          }
        }
      ]
    },
    {
      "cell_type": "code",
      "metadata": {
        "colab": {
          "base_uri": "https://localhost:8080/"
        },
        "id": "k_We1mzGYHJZ",
        "outputId": "f2bed511-5c19-43bd-85e3-a2eba37738db"
      },
      "source": [
        "df.loc[df['PM_US Post']>200].index"
      ],
      "execution_count": null,
      "outputs": [
        {
          "output_type": "execute_result",
          "data": {
            "text/plain": [
              "Int64Index([17511, 17582, 17765, 17766, 17767, 17768, 17769, 17770, 17771,\n",
              "            18049,\n",
              "            ...\n",
              "            52418, 52419, 52420, 52424, 52425, 52426, 52562, 52563, 52564,\n",
              "            52565],\n",
              "           dtype='int64', length=401)"
            ]
          },
          "metadata": {},
          "execution_count": 23
        }
      ]
    },
    {
      "cell_type": "code",
      "metadata": {
        "id": "KSN2JBR7V91f"
      },
      "source": [
        "prevelik_PM = df.loc[df['PM_US Post']>200].index"
      ],
      "execution_count": null,
      "outputs": []
    },
    {
      "cell_type": "code",
      "metadata": {
        "id": "pP93jdVUQsgk"
      },
      "source": [
        "df.drop(prevelik_PM, inplace= True, axis = 0)"
      ],
      "execution_count": null,
      "outputs": []
    },
    {
      "cell_type": "code",
      "metadata": {
        "id": "-0k5V-jJK6Qi",
        "colab": {
          "base_uri": "https://localhost:8080/",
          "height": 271
        },
        "outputId": "a4c9878f-080c-4ffc-8e17-aba5f004e77d"
      },
      "source": [
        "sb.boxplot(y='DEWP',data=df)"
      ],
      "execution_count": null,
      "outputs": [
        {
          "output_type": "execute_result",
          "data": {
            "text/plain": [
              "<matplotlib.axes._subplots.AxesSubplot at 0x7f17b1f49590>"
            ]
          },
          "metadata": {},
          "execution_count": 26
        },
        {
          "output_type": "display_data",
          "data": {
            "image/png": "[encoded data removed]",
            "text/plain": [
              "<Figure size 432x288 with 1 Axes>"
            ]
          },
          "metadata": {
            "needs_background": "light"
          }
        }
      ]
    },
    {
      "cell_type": "code",
      "metadata": {
        "id": "hV0LQSJGK6Jt",
        "colab": {
          "base_uri": "https://localhost:8080/",
          "height": 269
        },
        "outputId": "a1333971-b461-49f1-8304-0ff61bbe3761"
      },
      "source": [
        "sb.boxplot(y='HUMI',data=df)"
      ],
      "execution_count": null,
      "outputs": [
        {
          "output_type": "execute_result",
          "data": {
            "text/plain": [
              "<matplotlib.axes._subplots.AxesSubplot at 0x7f17b1eb5b10>"
            ]
          },
          "metadata": {},
          "execution_count": 27
        },
        {
          "output_type": "display_data",
          "data": {
            "image/png": "[encoded data removed]",
            "text/plain": [
              "<Figure size 432x288 with 1 Axes>"
            ]
          },
          "metadata": {
            "needs_background": "light"
          }
        }
      ]
    },
    {
      "cell_type": "code",
      "metadata": {
        "id": "tX4dhFKCK6BI",
        "colab": {
          "base_uri": "https://localhost:8080/",
          "height": 269
        },
        "outputId": "2fc5f232-c009-4dab-c497-6d4fb4770c4e"
      },
      "source": [
        "sb.boxplot(y='PRES',data=df)"
      ],
      "execution_count": null,
      "outputs": [
        {
          "output_type": "execute_result",
          "data": {
            "text/plain": [
              "<matplotlib.axes._subplots.AxesSubplot at 0x7f17b1e32410>"
            ]
          },
          "metadata": {},
          "execution_count": 28
        },
        {
          "output_type": "display_data",
          "data": {
            "image/png": "[encoded data removed]",
            "text/plain": [
              "<Figure size 432x288 with 1 Axes>"
            ]
          },
          "metadata": {
            "needs_background": "light"
          }
        }
      ]
    },
    {
      "cell_type": "code",
      "metadata": {
        "id": "c0Tvm3liK5y6",
        "colab": {
          "base_uri": "https://localhost:8080/",
          "height": 269
        },
        "outputId": "4782f664-c601-4de1-c634-8a2081d50e4d"
      },
      "source": [
        "sb.boxplot(y='TEMP',data=df)"
      ],
      "execution_count": null,
      "outputs": [
        {
          "output_type": "execute_result",
          "data": {
            "text/plain": [
              "<matplotlib.axes._subplots.AxesSubplot at 0x7f17b1e1c3d0>"
            ]
          },
          "metadata": {},
          "execution_count": 29
        },
        {
          "output_type": "display_data",
          "data": {
            "image/png": "[encoded data removed]",
            "text/plain": [
              "<Figure size 432x288 with 1 Axes>"
            ]
          },
          "metadata": {
            "needs_background": "light"
          }
        }
      ]
    },
    {
      "cell_type": "code",
      "metadata": {
        "id": "Zp2l9_8JLGkt",
        "colab": {
          "base_uri": "https://localhost:8080/",
          "height": 269
        },
        "outputId": "fa87dc6f-3e90-46fe-d066-acac59190e4c"
      },
      "source": [
        "sb.boxplot(y='Iws',data=df)"
      ],
      "execution_count": null,
      "outputs": [
        {
          "output_type": "execute_result",
          "data": {
            "text/plain": [
              "<matplotlib.axes._subplots.AxesSubplot at 0x7f17b1d93c90>"
            ]
          },
          "metadata": {},
          "execution_count": 30
        },
        {
          "output_type": "display_data",
          "data": {
            "image/png": "[encoded data removed]",
            "text/plain": [
              "<Figure size 432x288 with 1 Axes>"
            ]
          },
          "metadata": {
            "needs_background": "light"
          }
        }
      ]
    },
    {
      "cell_type": "markdown",
      "metadata": {
        "id": "SpnRgs7jWlyc"
      },
      "source": [
        "Sređivanje svih neverovatnih vrednosti za vetar"
      ]
    },
    {
      "cell_type": "code",
      "metadata": {
        "colab": {
          "base_uri": "https://localhost:8080/"
        },
        "id": "3FyJPNqnZarb",
        "outputId": "c8459bb8-0bf7-4f6f-baa4-b5e7875eb709"
      },
      "source": [
        "df.loc[df['Iws']>15].index"
      ],
      "execution_count": null,
      "outputs": [
        {
          "output_type": "execute_result",
          "data": {
            "text/plain": [
              "Int64Index([    7,     8,     9,    10,    14,    19,    20,    21,    37,\n",
              "               38,\n",
              "            ...\n",
              "            52555, 52556, 52557, 52558, 52569, 52570, 52580, 52581, 52582,\n",
              "            52583],\n",
              "           dtype='int64', length=28777)"
            ]
          },
          "metadata": {},
          "execution_count": 31
        }
      ]
    },
    {
      "cell_type": "code",
      "metadata": {
        "colab": {
          "base_uri": "https://localhost:8080/"
        },
        "id": "96YZJv6DZ5Cp",
        "outputId": "ec6dd5cc-2387-4818-8910-ab3510f112a2"
      },
      "source": [
        "vr_prevelikog_vetra = df.loc[df['Iws']>15].index\n",
        "percent = (6645/len(df['Iws']))*100\n",
        "print(percent)"
      ],
      "execution_count": null,
      "outputs": [
        {
          "output_type": "stream",
          "name": "stdout",
          "text": [
            "12.741112858074166\n"
          ]
        }
      ]
    },
    {
      "cell_type": "code",
      "metadata": {
        "id": "v_mwi1JNg9XV"
      },
      "source": [
        "df.loc[df['Iws'] > 15,'Iws'] = np.nan"
      ],
      "execution_count": null,
      "outputs": []
    },
    {
      "cell_type": "code",
      "metadata": {
        "id": "RXu-Z0OmihDI"
      },
      "source": [
        "df['Iws'].fillna(df['Iws'].mean(), inplace=True)"
      ],
      "execution_count": null,
      "outputs": []
    },
    {
      "cell_type": "code",
      "metadata": {
        "id": "3966FyrzLGdT",
        "colab": {
          "base_uri": "https://localhost:8080/",
          "height": 269
        },
        "outputId": "a5b4194f-b2b2-4b28-cbec-75ecac7a0030"
      },
      "source": [
        "sb.boxplot(y='precipitation',data=df)"
      ],
      "execution_count": null,
      "outputs": [
        {
          "output_type": "execute_result",
          "data": {
            "text/plain": [
              "<matplotlib.axes._subplots.AxesSubplot at 0x7f17b1d08a50>"
            ]
          },
          "metadata": {},
          "execution_count": 35
        },
        {
          "output_type": "display_data",
          "data": {
            "image/png": "[encoded data removed]",
            "text/plain": [
              "<Figure size 432x288 with 1 Axes>"
            ]
          },
          "metadata": {
            "needs_background": "light"
          }
        }
      ]
    },
    {
      "cell_type": "code",
      "metadata": {
        "id": "1VXGteP_aH5A",
        "colab": {
          "base_uri": "https://localhost:8080/",
          "height": 269
        },
        "outputId": "bf726c70-b064-45ed-e94d-4f71c37a45fd"
      },
      "source": [
        "vr_padavina = df.loc[df['precipitation']>0].index\n",
        "sb.boxplot(y=vr_padavina,data=df)"
      ],
      "execution_count": null,
      "outputs": [
        {
          "output_type": "execute_result",
          "data": {
            "text/plain": [
              "<matplotlib.axes._subplots.AxesSubplot at 0x7f17b1c62d10>"
            ]
          },
          "metadata": {},
          "execution_count": 36
        },
        {
          "output_type": "display_data",
          "data": {
            "image/png": "[encoded data removed]",
            "text/plain": [
              "<Figure size 432x288 with 1 Axes>"
            ]
          },
          "metadata": {
            "needs_background": "light"
          }
        }
      ]
    },
    {
      "cell_type": "code",
      "metadata": {
        "id": "UyV71NbXLGP0",
        "colab": {
          "base_uri": "https://localhost:8080/",
          "height": 269
        },
        "outputId": "f483769f-586c-4515-b81a-5304a78a910d"
      },
      "source": [
        "sb.boxplot(y='Iprec',data=df)"
      ],
      "execution_count": null,
      "outputs": [
        {
          "output_type": "execute_result",
          "data": {
            "text/plain": [
              "<matplotlib.axes._subplots.AxesSubplot at 0x7f17b1c546d0>"
            ]
          },
          "metadata": {},
          "execution_count": 37
        },
        {
          "output_type": "display_data",
          "data": {
            "image/png": "[encoded data removed]",
            "text/plain": [
              "<Figure size 432x288 with 1 Axes>"
            ]
          },
          "metadata": {
            "needs_background": "light"
          }
        }
      ]
    },
    {
      "cell_type": "code",
      "metadata": {
        "id": "mE3gxVdKS9Qx",
        "colab": {
          "base_uri": "https://localhost:8080/",
          "height": 269
        },
        "outputId": "f2aedaa6-b787-497c-ad07-e05bcc870812"
      },
      "source": [
        "vr_padavina_I = df.loc[df['Iprec']>0].index\n",
        "sb.boxplot(y=vr_padavina_I,data=df)"
      ],
      "execution_count": null,
      "outputs": [
        {
          "output_type": "execute_result",
          "data": {
            "text/plain": [
              "<matplotlib.axes._subplots.AxesSubplot at 0x7f17b2601a10>"
            ]
          },
          "metadata": {},
          "execution_count": 38
        },
        {
          "output_type": "display_data",
          "data": {
            "image/png": "[encoded data removed]",
            "text/plain": [
              "<Figure size 432x288 with 1 Axes>"
            ]
          },
          "metadata": {
            "needs_background": "light"
          }
        }
      ]
    },
    {
      "cell_type": "code",
      "metadata": {
        "id": "9fidmiA2Fc7r",
        "colab": {
          "base_uri": "https://localhost:8080/",
          "height": 583
        },
        "outputId": "dffc22f1-a06e-48e6-e2a7-1de313215203"
      },
      "source": [
        "total = df.isnull().sum().sort_values(ascending=False)\n",
        "percent = (df.isnull().sum()/len(df)*100).sort_values(ascending=False)\n",
        "missing_data = pd.concat([total, percent], axis=1, keys=['Total', 'Percent'])\n",
        "missing_data.head(20)"
      ],
      "execution_count": null,
      "outputs": [
        {
          "output_type": "execute_result",
          "data": {
            "text/html": [
              "<div>\n",
              "<style scoped>\n",
              "    .dataframe tbody tr th:only-of-type {\n",
              "        vertical-align: middle;\n",
              "    }\n",
              "\n",
              "    .dataframe tbody tr th {\n",
              "        vertical-align: top;\n",
              "    }\n",
              "\n",
              "    .dataframe thead th {\n",
              "        text-align: right;\n",
              "    }\n",
              "</style>\n",
              "<table border=\"1\" class=\"dataframe\">\n",
              "  <thead>\n",
              "    <tr style=\"text-align: right;\">\n",
              "      <th></th>\n",
              "      <th>Total</th>\n",
              "      <th>Percent</th>\n",
              "    </tr>\n",
              "  </thead>\n",
              "  <tbody>\n",
              "    <tr>\n",
              "      <th>PM_Jingan</th>\n",
              "      <td>27802</td>\n",
              "      <td>53.307512</td>\n",
              "    </tr>\n",
              "    <tr>\n",
              "      <th>PM_Xuhui</th>\n",
              "      <td>27312</td>\n",
              "      <td>52.367987</td>\n",
              "    </tr>\n",
              "    <tr>\n",
              "      <th>PM_US Post</th>\n",
              "      <td>18536</td>\n",
              "      <td>35.540898</td>\n",
              "    </tr>\n",
              "    <tr>\n",
              "      <th>year</th>\n",
              "      <td>0</td>\n",
              "      <td>0.000000</td>\n",
              "    </tr>\n",
              "    <tr>\n",
              "      <th>month</th>\n",
              "      <td>0</td>\n",
              "      <td>0.000000</td>\n",
              "    </tr>\n",
              "    <tr>\n",
              "      <th>day</th>\n",
              "      <td>0</td>\n",
              "      <td>0.000000</td>\n",
              "    </tr>\n",
              "    <tr>\n",
              "      <th>hour</th>\n",
              "      <td>0</td>\n",
              "      <td>0.000000</td>\n",
              "    </tr>\n",
              "    <tr>\n",
              "      <th>season</th>\n",
              "      <td>0</td>\n",
              "      <td>0.000000</td>\n",
              "    </tr>\n",
              "    <tr>\n",
              "      <th>Iprec</th>\n",
              "      <td>0</td>\n",
              "      <td>0.000000</td>\n",
              "    </tr>\n",
              "    <tr>\n",
              "      <th>precipitation</th>\n",
              "      <td>0</td>\n",
              "      <td>0.000000</td>\n",
              "    </tr>\n",
              "    <tr>\n",
              "      <th>DEWP</th>\n",
              "      <td>0</td>\n",
              "      <td>0.000000</td>\n",
              "    </tr>\n",
              "    <tr>\n",
              "      <th>HUMI</th>\n",
              "      <td>0</td>\n",
              "      <td>0.000000</td>\n",
              "    </tr>\n",
              "    <tr>\n",
              "      <th>PRES</th>\n",
              "      <td>0</td>\n",
              "      <td>0.000000</td>\n",
              "    </tr>\n",
              "    <tr>\n",
              "      <th>TEMP</th>\n",
              "      <td>0</td>\n",
              "      <td>0.000000</td>\n",
              "    </tr>\n",
              "    <tr>\n",
              "      <th>cbwd</th>\n",
              "      <td>0</td>\n",
              "      <td>0.000000</td>\n",
              "    </tr>\n",
              "    <tr>\n",
              "      <th>Iws</th>\n",
              "      <td>0</td>\n",
              "      <td>0.000000</td>\n",
              "    </tr>\n",
              "    <tr>\n",
              "      <th>No</th>\n",
              "      <td>0</td>\n",
              "      <td>0.000000</td>\n",
              "    </tr>\n",
              "  </tbody>\n",
              "</table>\n",
              "</div>"
            ],
            "text/plain": [
              "               Total    Percent\n",
              "PM_Jingan      27802  53.307512\n",
              "PM_Xuhui       27312  52.367987\n",
              "PM_US Post     18536  35.540898\n",
              "year               0   0.000000\n",
              "month              0   0.000000\n",
              "day                0   0.000000\n",
              "hour               0   0.000000\n",
              "season             0   0.000000\n",
              "Iprec              0   0.000000\n",
              "precipitation      0   0.000000\n",
              "DEWP               0   0.000000\n",
              "HUMI               0   0.000000\n",
              "PRES               0   0.000000\n",
              "TEMP               0   0.000000\n",
              "cbwd               0   0.000000\n",
              "Iws                0   0.000000\n",
              "No                 0   0.000000"
            ]
          },
          "metadata": {},
          "execution_count": 39
        }
      ]
    },
    {
      "cell_type": "code",
      "metadata": {
        "id": "LhFFlHspGCbS"
      },
      "source": [
        "df.drop(['PM_Jingan', 'PM_Xuhui'], inplace= True, axis = 1)"
      ],
      "execution_count": null,
      "outputs": []
    },
    {
      "cell_type": "code",
      "metadata": {
        "id": "krZWt9_PJGUf",
        "colab": {
          "base_uri": "https://localhost:8080/"
        },
        "outputId": "3b89e1d1-65b1-4fde-dc83-ccb37788bdb4"
      },
      "source": [
        "print(df['DEWP'].describe())"
      ],
      "execution_count": null,
      "outputs": [
        {
          "output_type": "stream",
          "name": "stdout",
          "text": [
            "count    52154.000000\n",
            "mean        11.352399\n",
            "std          9.880437\n",
            "min        -21.000000\n",
            "25%          3.000000\n",
            "50%         12.000000\n",
            "75%         20.000000\n",
            "max         28.000000\n",
            "Name: DEWP, dtype: float64\n"
          ]
        }
      ]
    },
    {
      "cell_type": "code",
      "metadata": {
        "id": "b4QjeR1wNy32",
        "colab": {
          "base_uri": "https://localhost:8080/"
        },
        "outputId": "acc10adc-e727-42f8-a92b-73438ebacdf4"
      },
      "source": [
        "print(df['TEMP'].describe())"
      ],
      "execution_count": null,
      "outputs": [
        {
          "output_type": "stream",
          "name": "stdout",
          "text": [
            "count    52154.000000\n",
            "mean        17.537121\n",
            "std          9.309866\n",
            "min         -5.000000\n",
            "25%         10.000000\n",
            "50%         18.000000\n",
            "75%         25.000000\n",
            "max         41.000000\n",
            "Name: TEMP, dtype: float64\n"
          ]
        }
      ]
    },
    {
      "cell_type": "code",
      "metadata": {
        "id": "dTYjvaKyN577",
        "colab": {
          "base_uri": "https://localhost:8080/"
        },
        "outputId": "bfe6b0fd-322f-48fc-d2f0-40b0b5b217d6"
      },
      "source": [
        "print(df['HUMI'].describe())"
      ],
      "execution_count": null,
      "outputs": [
        {
          "output_type": "stream",
          "name": "stdout",
          "text": [
            "count    52154.000000\n",
            "mean        69.523489\n",
            "std         17.673930\n",
            "min         11.320000\n",
            "25%         57.930000\n",
            "50%         72.420000\n",
            "75%         83.370000\n",
            "max        100.000000\n",
            "Name: HUMI, dtype: float64\n"
          ]
        }
      ]
    },
    {
      "cell_type": "code",
      "metadata": {
        "id": "muDu4YoDON_v",
        "colab": {
          "base_uri": "https://localhost:8080/"
        },
        "outputId": "079e713c-4de5-4e31-a687-10476caf93f2"
      },
      "source": [
        "print(df['PRES'].describe())"
      ],
      "execution_count": null,
      "outputs": [
        {
          "output_type": "stream",
          "name": "stdout",
          "text": [
            "count    52154.000000\n",
            "mean      1015.962195\n",
            "std          9.018361\n",
            "min        990.000000\n",
            "25%       1008.100000\n",
            "50%       1015.900000\n",
            "75%       1023.000000\n",
            "max       1040.000000\n",
            "Name: PRES, dtype: float64\n"
          ]
        }
      ]
    },
    {
      "cell_type": "code",
      "metadata": {
        "id": "wQ5xwMIlOSLv",
        "colab": {
          "base_uri": "https://localhost:8080/"
        },
        "outputId": "786eeb29-4e60-4a38-fae0-a27ee312fb6b"
      },
      "source": [
        "print(df['Iws'].describe())"
      ],
      "execution_count": null,
      "outputs": [
        {
          "output_type": "stream",
          "name": "stdout",
          "text": [
            "count    52154.000000\n",
            "mean         5.936806\n",
            "std          2.781985\n",
            "min          0.000000\n",
            "25%          5.936806\n",
            "50%          5.936806\n",
            "75%          5.936806\n",
            "max         15.000000\n",
            "Name: Iws, dtype: float64\n"
          ]
        }
      ]
    },
    {
      "cell_type": "code",
      "metadata": {
        "id": "iOSvNP0xOWc-",
        "colab": {
          "base_uri": "https://localhost:8080/"
        },
        "outputId": "4f3df2fb-d9a3-47c3-9e30-601681773b03"
      },
      "source": [
        "print(df['precipitation'].describe())"
      ],
      "execution_count": null,
      "outputs": [
        {
          "output_type": "stream",
          "name": "stdout",
          "text": [
            "count    52154.000000\n",
            "mean         0.131401\n",
            "std          1.026962\n",
            "min          0.000000\n",
            "25%          0.000000\n",
            "50%          0.000000\n",
            "75%          0.000000\n",
            "max         61.600000\n",
            "Name: precipitation, dtype: float64\n"
          ]
        }
      ]
    },
    {
      "cell_type": "code",
      "metadata": {
        "id": "OUbZ8DMiOcdw",
        "colab": {
          "base_uri": "https://localhost:8080/"
        },
        "outputId": "1b2446cc-627e-45a6-808c-29746c3889ae"
      },
      "source": [
        "print(df['Iprec'].describe())"
      ],
      "execution_count": null,
      "outputs": [
        {
          "output_type": "stream",
          "name": "stdout",
          "text": [
            "count    52154.000000\n",
            "mean         0.855244\n",
            "std          6.276498\n",
            "min          0.000000\n",
            "25%          0.000000\n",
            "50%          0.000000\n",
            "75%          0.000000\n",
            "max        226.400000\n",
            "Name: Iprec, dtype: float64\n"
          ]
        }
      ]
    },
    {
      "cell_type": "code",
      "metadata": {
        "id": "4n0AuzaWOutA",
        "colab": {
          "base_uri": "https://localhost:8080/"
        },
        "outputId": "7b06a89c-7ff9-48ae-e276-792ca687a475"
      },
      "source": [
        "print(df['PM_US Post'].describe())"
      ],
      "execution_count": null,
      "outputs": [
        {
          "output_type": "stream",
          "name": "stdout",
          "text": [
            "count    33618.000000\n",
            "mean        50.545958\n",
            "std         35.938383\n",
            "min          1.000000\n",
            "25%         26.000000\n",
            "50%         41.000000\n",
            "75%         65.000000\n",
            "max        200.000000\n",
            "Name: PM_US Post, dtype: float64\n"
          ]
        }
      ]
    },
    {
      "cell_type": "code",
      "metadata": {
        "id": "usbVFdK9PFg1",
        "colab": {
          "base_uri": "https://localhost:8080/"
        },
        "outputId": "8c60659d-34ac-4c12-8f35-47b2f17eac3a"
      },
      "source": [
        "print(df['year'].describe())"
      ],
      "execution_count": null,
      "outputs": [
        {
          "output_type": "stream",
          "name": "stdout",
          "text": [
            "count    52154.000000\n",
            "mean      2012.491985\n",
            "std          1.709330\n",
            "min       2010.000000\n",
            "25%       2011.000000\n",
            "50%       2012.000000\n",
            "75%       2014.000000\n",
            "max       2015.000000\n",
            "Name: year, dtype: float64\n"
          ]
        }
      ]
    },
    {
      "cell_type": "code",
      "metadata": {
        "id": "6cBPqGCiPKaF",
        "colab": {
          "base_uri": "https://localhost:8080/"
        },
        "outputId": "3b43eaa1-208c-463d-a889-b1695589ce1d"
      },
      "source": [
        "print(df['month'].describe())"
      ],
      "execution_count": null,
      "outputs": [
        {
          "output_type": "stream",
          "name": "stdout",
          "text": [
            "count    52154.000000\n",
            "mean         6.527150\n",
            "std          3.432881\n",
            "min          1.000000\n",
            "25%          4.000000\n",
            "50%          7.000000\n",
            "75%         10.000000\n",
            "max         12.000000\n",
            "Name: month, dtype: float64\n"
          ]
        }
      ]
    },
    {
      "cell_type": "code",
      "metadata": {
        "id": "KwEoMjaoPM1J",
        "colab": {
          "base_uri": "https://localhost:8080/"
        },
        "outputId": "3dec0736-0e4b-4ec0-ce15-7b0a30777b71"
      },
      "source": [
        "print(df['day'].describe())"
      ],
      "execution_count": null,
      "outputs": [
        {
          "output_type": "stream",
          "name": "stdout",
          "text": [
            "count    52154.000000\n",
            "mean        15.737834\n",
            "std          8.796480\n",
            "min          1.000000\n",
            "25%          8.000000\n",
            "50%         16.000000\n",
            "75%         23.000000\n",
            "max         31.000000\n",
            "Name: day, dtype: float64\n"
          ]
        }
      ]
    },
    {
      "cell_type": "code",
      "metadata": {
        "id": "_TuBg5oFPPak",
        "colab": {
          "base_uri": "https://localhost:8080/"
        },
        "outputId": "439e731d-ff67-48aa-b2df-11b05d612aa5"
      },
      "source": [
        "print(df['hour'].describe())"
      ],
      "execution_count": null,
      "outputs": [
        {
          "output_type": "stream",
          "name": "stdout",
          "text": [
            "count    52154.000000\n",
            "mean        11.506404\n",
            "std          6.920453\n",
            "min          0.000000\n",
            "25%          6.000000\n",
            "50%         12.000000\n",
            "75%         18.000000\n",
            "max         23.000000\n",
            "Name: hour, dtype: float64\n"
          ]
        }
      ]
    },
    {
      "cell_type": "code",
      "metadata": {
        "id": "93Wky2KbPVYc",
        "colab": {
          "base_uri": "https://localhost:8080/"
        },
        "outputId": "f9eeeae8-c338-49c7-e980-7b9dbaec78a0"
      },
      "source": [
        "print(df['season'].describe())"
      ],
      "execution_count": null,
      "outputs": [
        {
          "output_type": "stream",
          "name": "stdout",
          "text": [
            "count    52154.000000\n",
            "mean         2.482111\n",
            "std          1.114208\n",
            "min          1.000000\n",
            "25%          1.000000\n",
            "50%          2.000000\n",
            "75%          3.000000\n",
            "max          4.000000\n",
            "Name: season, dtype: float64\n"
          ]
        }
      ]
    },
    {
      "cell_type": "code",
      "metadata": {
        "id": "65shgb8gPYCU"
      },
      "source": [
        "df['PM_US Post'].fillna(method='ffill', inplace=True)"
      ],
      "execution_count": null,
      "outputs": []
    },
    {
      "cell_type": "code",
      "metadata": {
        "id": "xi3WFbKnQXGt",
        "colab": {
          "base_uri": "https://localhost:8080/",
          "height": 520
        },
        "outputId": "f46fd0c8-77d5-412a-ac23-7f6fc3db3619"
      },
      "source": [
        "total = df.isnull().sum().sort_values(ascending=False)\n",
        "percent = (df.isnull().sum()/len(df)).sort_values(ascending=False)\n",
        "missing_data = pd.concat([total, percent], axis=1, keys=['Total', 'Percent'])\n",
        "missing_data.head(20)"
      ],
      "execution_count": null,
      "outputs": [
        {
          "output_type": "execute_result",
          "data": {
            "text/html": [
              "<div>\n",
              "<style scoped>\n",
              "    .dataframe tbody tr th:only-of-type {\n",
              "        vertical-align: middle;\n",
              "    }\n",
              "\n",
              "    .dataframe tbody tr th {\n",
              "        vertical-align: top;\n",
              "    }\n",
              "\n",
              "    .dataframe thead th {\n",
              "        text-align: right;\n",
              "    }\n",
              "</style>\n",
              "<table border=\"1\" class=\"dataframe\">\n",
              "  <thead>\n",
              "    <tr style=\"text-align: right;\">\n",
              "      <th></th>\n",
              "      <th>Total</th>\n",
              "      <th>Percent</th>\n",
              "    </tr>\n",
              "  </thead>\n",
              "  <tbody>\n",
              "    <tr>\n",
              "      <th>PM_US Post</th>\n",
              "      <td>17434</td>\n",
              "      <td>0.334279</td>\n",
              "    </tr>\n",
              "    <tr>\n",
              "      <th>Iprec</th>\n",
              "      <td>0</td>\n",
              "      <td>0.000000</td>\n",
              "    </tr>\n",
              "    <tr>\n",
              "      <th>precipitation</th>\n",
              "      <td>0</td>\n",
              "      <td>0.000000</td>\n",
              "    </tr>\n",
              "    <tr>\n",
              "      <th>Iws</th>\n",
              "      <td>0</td>\n",
              "      <td>0.000000</td>\n",
              "    </tr>\n",
              "    <tr>\n",
              "      <th>cbwd</th>\n",
              "      <td>0</td>\n",
              "      <td>0.000000</td>\n",
              "    </tr>\n",
              "    <tr>\n",
              "      <th>TEMP</th>\n",
              "      <td>0</td>\n",
              "      <td>0.000000</td>\n",
              "    </tr>\n",
              "    <tr>\n",
              "      <th>PRES</th>\n",
              "      <td>0</td>\n",
              "      <td>0.000000</td>\n",
              "    </tr>\n",
              "    <tr>\n",
              "      <th>HUMI</th>\n",
              "      <td>0</td>\n",
              "      <td>0.000000</td>\n",
              "    </tr>\n",
              "    <tr>\n",
              "      <th>DEWP</th>\n",
              "      <td>0</td>\n",
              "      <td>0.000000</td>\n",
              "    </tr>\n",
              "    <tr>\n",
              "      <th>season</th>\n",
              "      <td>0</td>\n",
              "      <td>0.000000</td>\n",
              "    </tr>\n",
              "    <tr>\n",
              "      <th>hour</th>\n",
              "      <td>0</td>\n",
              "      <td>0.000000</td>\n",
              "    </tr>\n",
              "    <tr>\n",
              "      <th>day</th>\n",
              "      <td>0</td>\n",
              "      <td>0.000000</td>\n",
              "    </tr>\n",
              "    <tr>\n",
              "      <th>month</th>\n",
              "      <td>0</td>\n",
              "      <td>0.000000</td>\n",
              "    </tr>\n",
              "    <tr>\n",
              "      <th>year</th>\n",
              "      <td>0</td>\n",
              "      <td>0.000000</td>\n",
              "    </tr>\n",
              "    <tr>\n",
              "      <th>No</th>\n",
              "      <td>0</td>\n",
              "      <td>0.000000</td>\n",
              "    </tr>\n",
              "  </tbody>\n",
              "</table>\n",
              "</div>"
            ],
            "text/plain": [
              "               Total   Percent\n",
              "PM_US Post     17434  0.334279\n",
              "Iprec              0  0.000000\n",
              "precipitation      0  0.000000\n",
              "Iws                0  0.000000\n",
              "cbwd               0  0.000000\n",
              "TEMP               0  0.000000\n",
              "PRES               0  0.000000\n",
              "HUMI               0  0.000000\n",
              "DEWP               0  0.000000\n",
              "season             0  0.000000\n",
              "hour               0  0.000000\n",
              "day                0  0.000000\n",
              "month              0  0.000000\n",
              "year               0  0.000000\n",
              "No                 0  0.000000"
            ]
          },
          "metadata": {},
          "execution_count": 55
        }
      ]
    },
    {
      "cell_type": "code",
      "metadata": {
        "id": "olRH1pcqYLZ9"
      },
      "source": [
        "vr_nule_pm = df.loc[df['PM_US Post'].isnull()].index\n",
        "df.drop(vr_nule_pm, inplace= True, axis = 0)"
      ],
      "execution_count": null,
      "outputs": []
    },
    {
      "cell_type": "code",
      "metadata": {
        "id": "Jxrw8M75ekzE"
      },
      "source": [
        "#sb.set()\n",
        "#sb.pairplot(df, height = 2.5)\n",
        "#plt.show();"
      ],
      "execution_count": null,
      "outputs": []
    },
    {
      "cell_type": "code",
      "metadata": {
        "id": "MgVKJhYBZRSN",
        "colab": {
          "base_uri": "https://localhost:8080/"
        },
        "outputId": "e8fba449-06a7-4007-e279-30ca7d08c99a"
      },
      "source": [
        "df['cbwd'].unique()"
      ],
      "execution_count": null,
      "outputs": [
        {
          "output_type": "execute_result",
          "data": {
            "text/plain": [
              "array(['NE', 'NW', 'cv', 'SE', 'SW'], dtype=object)"
            ]
          },
          "metadata": {},
          "execution_count": 57
        }
      ]
    },
    {
      "cell_type": "code",
      "metadata": {
        "id": "ORSwlSBrM8-k",
        "colab": {
          "base_uri": "https://localhost:8080/"
        },
        "outputId": "6354e46a-2e56-498c-da3b-2ba09bb63868"
      },
      "source": [
        "df.loc[df['cbwd']=='cv','cbwd']=1\n",
        "df.loc[df['cbwd']=='NE','cbwd']=2\n",
        "df.loc[df['cbwd']=='NW','cbwd']=3\n",
        "df.loc[df['cbwd']=='SW','cbwd']=4\n",
        "df.loc[df['cbwd']=='SE','cbwd']=5\n",
        "print(df['cbwd'].unique())"
      ],
      "execution_count": null,
      "outputs": [
        {
          "output_type": "stream",
          "name": "stdout",
          "text": [
            "[2 3 1 5 4]\n"
          ]
        }
      ]
    },
    {
      "cell_type": "code",
      "metadata": {
        "id": "Al5Io1c2Z_dJ",
        "colab": {
          "base_uri": "https://localhost:8080/",
          "height": 594
        },
        "outputId": "6600fcd4-0db4-4e09-dbef-7e01a270f471"
      },
      "source": [
        "corr = df.corr()\n",
        "f = plt.figure(figsize=(12, 9))\n",
        "sb.heatmap(corr, annot=True);"
      ],
      "execution_count": null,
      "outputs": [
        {
          "output_type": "display_data",
          "data": {
            "image/png": "[encoded data removed]",
            "text/plain": [
              "<Figure size 864x648 with 2 Axes>"
            ]
          },
          "metadata": {
            "needs_background": "light"
          }
        }
      ]
    },
    {
      "cell_type": "code",
      "metadata": {
        "id": "iCqtYvZWnn0e",
        "colab": {
          "base_uri": "https://localhost:8080/",
          "height": 283
        },
        "outputId": "5ffaa85d-467f-4255-9ecf-0a7ae98a6e25"
      },
      "source": [
        "plt.scatter(df['DEWP'],df['PM_US Post'])"
      ],
      "execution_count": null,
      "outputs": [
        {
          "output_type": "execute_result",
          "data": {
            "text/plain": [
              "<matplotlib.collections.PathCollection at 0x7f17a907a750>"
            ]
          },
          "metadata": {},
          "execution_count": 60
        },
        {
          "output_type": "display_data",
          "data": {
            "image/png": "[encoded data removed]",
            "text/plain": [
              "<Figure size 432x288 with 1 Axes>"
            ]
          },
          "metadata": {
            "needs_background": "light"
          }
        }
      ]
    },
    {
      "cell_type": "code",
      "metadata": {
        "id": "Gg-yMP03peqc",
        "colab": {
          "base_uri": "https://localhost:8080/",
          "height": 283
        },
        "outputId": "ce058ef4-2ab9-4937-aa7e-f9cf82c9585d"
      },
      "source": [
        "plt.scatter(df['TEMP'],df['PM_US Post'])"
      ],
      "execution_count": null,
      "outputs": [
        {
          "output_type": "execute_result",
          "data": {
            "text/plain": [
              "<matplotlib.collections.PathCollection at 0x7f17a7859bd0>"
            ]
          },
          "metadata": {},
          "execution_count": 61
        },
        {
          "output_type": "display_data",
          "data": {
            "image/png": "[encoded data removed]",
            "text/plain": [
              "<Figure size 432x288 with 1 Axes>"
            ]
          },
          "metadata": {
            "needs_background": "light"
          }
        }
      ]
    },
    {
      "cell_type": "code",
      "metadata": {
        "id": "_1ruqQmlpmgC",
        "colab": {
          "base_uri": "https://localhost:8080/",
          "height": 283
        },
        "outputId": "ac213ac4-d3be-4182-b858-1f1e259bb236"
      },
      "source": [
        "plt.scatter(df['HUMI'],df['PM_US Post'])"
      ],
      "execution_count": null,
      "outputs": [
        {
          "output_type": "execute_result",
          "data": {
            "text/plain": [
              "<matplotlib.collections.PathCollection at 0x7f17a782ba10>"
            ]
          },
          "metadata": {},
          "execution_count": 62
        },
        {
          "output_type": "display_data",
          "data": {
            "image/png": "[encoded data removed]",
            "text/plain": [
              "<Figure size 432x288 with 1 Axes>"
            ]
          },
          "metadata": {
            "needs_background": "light"
          }
        }
      ]
    },
    {
      "cell_type": "code",
      "metadata": {
        "id": "hiDeJq-FpqOm",
        "colab": {
          "base_uri": "https://localhost:8080/",
          "height": 283
        },
        "outputId": "0eea3fc3-caac-43c5-c2ea-482e5137ae89"
      },
      "source": [
        "plt.scatter(df['PRES'],df['PM_US Post'])"
      ],
      "execution_count": null,
      "outputs": [
        {
          "output_type": "execute_result",
          "data": {
            "text/plain": [
              "<matplotlib.collections.PathCollection at 0x7f17a7731ed0>"
            ]
          },
          "metadata": {},
          "execution_count": 63
        },
        {
          "output_type": "display_data",
          "data": {
            "image/png": "[encoded data removed]",
            "text/plain": [
              "<Figure size 432x288 with 1 Axes>"
            ]
          },
          "metadata": {
            "needs_background": "light"
          }
        }
      ]
    },
    {
      "cell_type": "code",
      "metadata": {
        "id": "j3y4lDRzpvFs",
        "colab": {
          "base_uri": "https://localhost:8080/",
          "height": 283
        },
        "outputId": "bcc96901-b88f-475c-ffe1-56bc24df40f3"
      },
      "source": [
        "plt.scatter(df['Iws'],df['PM_US Post'])"
      ],
      "execution_count": null,
      "outputs": [
        {
          "output_type": "execute_result",
          "data": {
            "text/plain": [
              "<matplotlib.collections.PathCollection at 0x7f17a76a1d10>"
            ]
          },
          "metadata": {},
          "execution_count": 64
        },
        {
          "output_type": "display_data",
          "data": {
            "image/png": "[encoded data removed]",
            "text/plain": [
              "<Figure size 432x288 with 1 Axes>"
            ]
          },
          "metadata": {
            "needs_background": "light"
          }
        }
      ]
    },
    {
      "cell_type": "code",
      "metadata": {
        "id": "Urh-cXxZpxWH",
        "colab": {
          "base_uri": "https://localhost:8080/",
          "height": 283
        },
        "outputId": "a7b41463-2e63-461e-8f9f-36c6c153d0ab"
      },
      "source": [
        "plt.scatter(df['precipitation'],df['PM_US Post'])"
      ],
      "execution_count": null,
      "outputs": [
        {
          "output_type": "execute_result",
          "data": {
            "text/plain": [
              "<matplotlib.collections.PathCollection at 0x7f17a769b610>"
            ]
          },
          "metadata": {},
          "execution_count": 65
        },
        {
          "output_type": "display_data",
          "data": {
            "image/png": "[encoded data removed]",
            "text/plain": [
              "<Figure size 432x288 with 1 Axes>"
            ]
          },
          "metadata": {
            "needs_background": "light"
          }
        }
      ]
    },
    {
      "cell_type": "markdown",
      "metadata": {
        "id": "keiBf9F9bKCv"
      },
      "source": [
        "PM US Post nema nikakvu specijalnu korelisanost"
      ]
    },
    {
      "cell_type": "code",
      "metadata": {
        "id": "lO6XnRucdkv2",
        "colab": {
          "base_uri": "https://localhost:8080/",
          "height": 283
        },
        "outputId": "41784b4b-6665-4536-b361-0d71c6763e34"
      },
      "source": [
        "plt.scatter(df['cbwd'], df['precipitation'])"
      ],
      "execution_count": null,
      "outputs": [
        {
          "output_type": "execute_result",
          "data": {
            "text/plain": [
              "<matplotlib.collections.PathCollection at 0x7f17a760c910>"
            ]
          },
          "metadata": {},
          "execution_count": 66
        },
        {
          "output_type": "display_data",
          "data": {
            "image/png": "[encoded data removed]",
            "text/plain": [
              "<Figure size 432x288 with 1 Axes>"
            ]
          },
          "metadata": {
            "needs_background": "light"
          }
        }
      ]
    },
    {
      "cell_type": "markdown",
      "metadata": {
        "id": "soF2YJQOef8B"
      },
      "source": [
        "Kad je bilo malo vetra, manje je i kise, ali pravac vetra ne donosi promene u kolicini kise koja je pala"
      ]
    },
    {
      "cell_type": "code",
      "metadata": {
        "id": "N-nOnTrOjkDP",
        "colab": {
          "base_uri": "https://localhost:8080/",
          "height": 279
        },
        "outputId": "3c6d2457-db5f-4b29-ce90-ee192ac79abe"
      },
      "source": [
        "gb = df.groupby(by=['year', 'month']).mean()\n",
        "T_2012 = gb.loc[2012]['TEMP']\n",
        "T_2015 = gb.loc[2015]['TEMP']\n",
        "plt.plot(np.arange(1, 13, 1), T_2012, 'b', label='2012') \n",
        "plt.plot(np.arange(1, 13, 1), T_2015, 'g', label='2015')\n",
        "plt.ylabel('Prosečna mesečna temperatura (℃)')\n",
        "plt.xlabel('Mesec')\n",
        "plt.legend();"
      ],
      "execution_count": null,
      "outputs": [
        {
          "output_type": "display_data",
          "data": {
            "image/png": "[encoded data removed]",
            "text/plain": [
              "<Figure size 432x288 with 1 Axes>"
            ]
          },
          "metadata": {
            "needs_background": "light"
          }
        }
      ]
    },
    {
      "cell_type": "markdown",
      "metadata": {
        "id": "TVI-IMbtkywq"
      },
      "source": [
        "LIN REG"
      ]
    },
    {
      "cell_type": "code",
      "metadata": {
        "id": "2uo5uTkiXEQ2"
      },
      "source": [
        "def model_evaluation(y, y_predicted, N, d):\n",
        "    mse = mean_squared_error(y_test, y_predicted)\n",
        "    mae = mean_absolute_error(y_test, y_predicted)\n",
        "    rmse = np.sqrt(mse)\n",
        "    r2 = r2_score(y_test, y_predicted)\n",
        "    r2_adj = 1-(1-r2)*(N-1)/(N-d-1)\n",
        "\n",
        "    print('Mean squared error: ', mse)\n",
        "    print('Mean absolute error: ', mae)\n",
        "    print('Root mean squared error: ', rmse)\n",
        "    print('R2 score: ', r2)\n",
        "    print('R2 adjusted score: ', r2_adj)\n",
        "\n",
        "    res=pd.concat([pd.DataFrame(y.values), pd.DataFrame(y_predicted)], axis=1)\n",
        "    res.columns = ['y', 'y_pred']\n",
        "    print(res.head(20))"
      ],
      "execution_count": null,
      "outputs": []
    },
    {
      "cell_type": "code",
      "metadata": {
        "id": "qMcvMHGKXFxs"
      },
      "source": [
        "y=df['PM_US Post']"
      ],
      "execution_count": null,
      "outputs": []
    },
    {
      "cell_type": "code",
      "metadata": {
        "id": "wz6jeznYiW4C"
      },
      "source": [
        "x = df.drop('PM_US Post',axis = 1,inplace=False)"
      ],
      "execution_count": null,
      "outputs": []
    },
    {
      "cell_type": "code",
      "metadata": {
        "id": "zc4Yiy8o4zq0"
      },
      "source": [
        "x = x.drop('No',axis = 1,inplace=False)"
      ],
      "execution_count": null,
      "outputs": []
    },
    {
      "cell_type": "code",
      "metadata": {
        "id": "6IhovT4yXR2r"
      },
      "source": [
        "x = x.drop('cbwd',axis = 1,inplace=False)"
      ],
      "execution_count": null,
      "outputs": []
    },
    {
      "cell_type": "code",
      "metadata": {
        "colab": {
          "base_uri": "https://localhost:8080/"
        },
        "id": "ITQsb2ia5P6w",
        "outputId": "d729d470-56d4-4eaa-b216-caefd24ff397"
      },
      "source": [
        "print(x.info())"
      ],
      "execution_count": null,
      "outputs": [
        {
          "output_type": "stream",
          "name": "stdout",
          "text": [
            "<class 'pandas.core.frame.DataFrame'>\n",
            "Int64Index: 34720 entries, 17442 to 52583\n",
            "Data columns (total 12 columns):\n",
            " #   Column         Non-Null Count  Dtype  \n",
            "---  ------         --------------  -----  \n",
            " 0   year           34720 non-null  int64  \n",
            " 1   month          34720 non-null  int64  \n",
            " 2   day            34720 non-null  int64  \n",
            " 3   hour           34720 non-null  int64  \n",
            " 4   season         34720 non-null  int64  \n",
            " 5   DEWP           34720 non-null  float64\n",
            " 6   HUMI           34720 non-null  float64\n",
            " 7   PRES           34720 non-null  float64\n",
            " 8   TEMP           34720 non-null  float64\n",
            " 9   Iws            34720 non-null  float64\n",
            " 10  precipitation  34720 non-null  float64\n",
            " 11  Iprec          34720 non-null  float64\n",
            "dtypes: float64(7), int64(5)\n",
            "memory usage: 3.4 MB\n",
            "None\n"
          ]
        }
      ]
    },
    {
      "cell_type": "code",
      "metadata": {
        "id": "K_FZyu6NYiiW"
      },
      "source": [
        "x_train, x_test, y_train, y_test = train_test_split(x, y, test_size=0.1, random_state=42)"
      ],
      "execution_count": null,
      "outputs": []
    },
    {
      "cell_type": "code",
      "metadata": {
        "id": "odSTQqTkY-x0",
        "colab": {
          "base_uri": "https://localhost:8080/",
          "height": 806
        },
        "outputId": "0bf4870b-011b-452e-97fe-3b6cfe8bb26d"
      },
      "source": [
        "# Inicijalizacija\n",
        "first_regression_model = LinearRegression(fit_intercept=True)\n",
        "\n",
        "# Obuka\n",
        "first_regression_model.fit(x_train, y_train)\n",
        "\n",
        "# Testiranje\n",
        "y_predicted = first_regression_model.predict(x_test)\n",
        "\n",
        "# Evaluacija\n",
        "model_evaluation(y_test, y_predicted, x_train.shape[0], x_train.shape[1])\n",
        "\n",
        "# Ilustracija koeficijenata\n",
        "plt.figure(figsize=(10,5))\n",
        "plt.bar(range(len(first_regression_model.coef_)),first_regression_model.coef_)\n",
        "print(\"koeficijenti: \", first_regression_model.coef_)"
      ],
      "execution_count": null,
      "outputs": [
        {
          "output_type": "stream",
          "name": "stdout",
          "text": [
            "Mean squared error:  1044.0059129312633\n",
            "Mean absolute error:  24.570197285355082\n",
            "Root mean squared error:  32.31108034299168\n",
            "R2 score:  0.1443258281151759\n",
            "R2 adjusted score:  0.1440792992866029\n",
            "        y     y_pred\n",
            "0    11.0  41.201327\n",
            "1    68.0  70.540958\n",
            "2    27.0  39.159925\n",
            "3    32.0  42.401765\n",
            "4     6.0  40.134912\n",
            "5    14.0  50.259251\n",
            "6    66.0  63.382259\n",
            "7   146.0  61.724926\n",
            "8    24.0  44.097877\n",
            "9    78.0  54.972918\n",
            "10  104.0  56.770273\n",
            "11    6.0  39.909209\n",
            "12   80.0  52.159396\n",
            "13   34.0  46.396703\n",
            "14   31.0  64.728921\n",
            "15   40.0  51.140761\n",
            "16   31.0  39.733810\n",
            "17   32.0  37.410261\n",
            "18   21.0  56.722429\n",
            "19   44.0  39.813059\n",
            "koeficijenti:  [ 0.45205515  0.21714404  1.14691322 -0.33864109 -0.98555023 -2.08628825\n",
            " -0.66019717 -1.03536361 -0.39800551]\n"
          ]
        },
        {
          "output_type": "display_data",
          "data": {
            "image/png": "[encoded data removed]",
            "text/plain": [
              "<Figure size 720x360 with 1 Axes>"
            ]
          },
          "metadata": {
            "needs_background": "light"
          }
        }
      ]
    },
    {
      "cell_type": "code",
      "metadata": {
        "id": "q2eHPeQycK4O",
        "colab": {
          "base_uri": "https://localhost:8080/",
          "height": 657
        },
        "outputId": "18d1057e-f3aa-4343-d5d2-5b408c8d4c59"
      },
      "source": [
        "# Selekcija obelezja\n",
        "import statsmodels.api as sm\n",
        "X = sm.add_constant(x_train)\n",
        "#np.asarray(x_train)\n",
        "model = sm.OLS(y_train, X).fit()\n",
        "model.summary()"
      ],
      "execution_count": null,
      "outputs": [
        {
          "output_type": "execute_result",
          "data": {
            "text/html": [
              "<table class=\"simpletable\">\n",
              "<caption>OLS Regression Results</caption>\n",
              "<tr>\n",
              "  <th>Dep. Variable:</th>       <td>PM_US Post</td>    <th>  R-squared:         </th>  <td>   0.143</td>  \n",
              "</tr>\n",
              "<tr>\n",
              "  <th>Model:</th>                   <td>OLS</td>       <th>  Adj. R-squared:    </th>  <td>   0.143</td>  \n",
              "</tr>\n",
              "<tr>\n",
              "  <th>Method:</th>             <td>Least Squares</td>  <th>  F-statistic:       </th>  <td>   578.2</td>  \n",
              "</tr>\n",
              "<tr>\n",
              "  <th>Date:</th>             <td>Mon, 29 Nov 2021</td> <th>  Prob (F-statistic):</th>   <td>  0.00</td>   \n",
              "</tr>\n",
              "<tr>\n",
              "  <th>Time:</th>                 <td>17:15:55</td>     <th>  Log-Likelihood:    </th> <td>-1.5389e+05</td>\n",
              "</tr>\n",
              "<tr>\n",
              "  <th>No. Observations:</th>      <td> 31248</td>      <th>  AIC:               </th>  <td>3.078e+05</td> \n",
              "</tr>\n",
              "<tr>\n",
              "  <th>Df Residuals:</th>          <td> 31238</td>      <th>  BIC:               </th>  <td>3.079e+05</td> \n",
              "</tr>\n",
              "<tr>\n",
              "  <th>Df Model:</th>              <td>     9</td>      <th>                     </th>      <td> </td>     \n",
              "</tr>\n",
              "<tr>\n",
              "  <th>Covariance Type:</th>      <td>nonrobust</td>    <th>                     </th>      <td> </td>     \n",
              "</tr>\n",
              "</table>\n",
              "<table class=\"simpletable\">\n",
              "<tr>\n",
              "        <td></td>           <th>coef</th>     <th>std err</th>      <th>t</th>      <th>P>|t|</th>  <th>[0.025</th>    <th>0.975]</th>  \n",
              "</tr>\n",
              "<tr>\n",
              "  <th>const</th>         <td> 1108.2807</td> <td>   50.560</td> <td>   21.920</td> <td> 0.000</td> <td> 1009.182</td> <td> 1207.380</td>\n",
              "</tr>\n",
              "<tr>\n",
              "  <th>month</th>         <td>    0.4521</td> <td>    0.064</td> <td>    7.090</td> <td> 0.000</td> <td>    0.327</td> <td>    0.577</td>\n",
              "</tr>\n",
              "<tr>\n",
              "  <th>hour</th>          <td>    0.2171</td> <td>    0.028</td> <td>    7.623</td> <td> 0.000</td> <td>    0.161</td> <td>    0.273</td>\n",
              "</tr>\n",
              "<tr>\n",
              "  <th>season</th>        <td>    1.1469</td> <td>    0.215</td> <td>    5.322</td> <td> 0.000</td> <td>    0.725</td> <td>    1.569</td>\n",
              "</tr>\n",
              "<tr>\n",
              "  <th>HUMI</th>          <td>   -0.3386</td> <td>    0.013</td> <td>  -26.557</td> <td> 0.000</td> <td>   -0.364</td> <td>   -0.314</td>\n",
              "</tr>\n",
              "<tr>\n",
              "  <th>PRES</th>          <td>   -0.9856</td> <td>    0.049</td> <td>  -20.153</td> <td> 0.000</td> <td>   -1.081</td> <td>   -0.890</td>\n",
              "</tr>\n",
              "<tr>\n",
              "  <th>TEMP</th>          <td>   -2.0863</td> <td>    0.047</td> <td>  -44.617</td> <td> 0.000</td> <td>   -2.178</td> <td>   -1.995</td>\n",
              "</tr>\n",
              "<tr>\n",
              "  <th>Iws</th>           <td>   -0.6602</td> <td>    0.069</td> <td>   -9.521</td> <td> 0.000</td> <td>   -0.796</td> <td>   -0.524</td>\n",
              "</tr>\n",
              "<tr>\n",
              "  <th>precipitation</th> <td>   -1.0354</td> <td>    0.213</td> <td>   -4.860</td> <td> 0.000</td> <td>   -1.453</td> <td>   -0.618</td>\n",
              "</tr>\n",
              "<tr>\n",
              "  <th>Iprec</th>         <td>   -0.3980</td> <td>    0.030</td> <td>  -13.096</td> <td> 0.000</td> <td>   -0.458</td> <td>   -0.338</td>\n",
              "</tr>\n",
              "</table>\n",
              "<table class=\"simpletable\">\n",
              "<tr>\n",
              "  <th>Omnibus:</th>       <td>7307.885</td> <th>  Durbin-Watson:     </th> <td>   1.998</td> \n",
              "</tr>\n",
              "<tr>\n",
              "  <th>Prob(Omnibus):</th>  <td> 0.000</td>  <th>  Jarque-Bera (JB):  </th> <td>15679.301</td>\n",
              "</tr>\n",
              "<tr>\n",
              "  <th>Skew:</th>           <td> 1.364</td>  <th>  Prob(JB):          </th> <td>    0.00</td> \n",
              "</tr>\n",
              "<tr>\n",
              "  <th>Kurtosis:</th>       <td> 5.144</td>  <th>  Cond. No.          </th> <td>2.73e+05</td> \n",
              "</tr>\n",
              "</table><br/><br/>Warnings:<br/>[1] Standard Errors assume that the covariance matrix of the errors is correctly specified.<br/>[2] The condition number is large, 2.73e+05. This might indicate that there are<br/>strong multicollinearity or other numerical problems."
            ],
            "text/plain": [
              "<class 'statsmodels.iolib.summary.Summary'>\n",
              "\"\"\"\n",
              "                            OLS Regression Results                            \n",
              "==============================================================================\n",
              "Dep. Variable:             PM_US Post   R-squared:                       0.143\n",
              "Model:                            OLS   Adj. R-squared:                  0.143\n",
              "Method:                 Least Squares   F-statistic:                     578.2\n",
              "Date:                Mon, 29 Nov 2021   Prob (F-statistic):               0.00\n",
              "Time:                        17:15:55   Log-Likelihood:            -1.5389e+05\n",
              "No. Observations:               31248   AIC:                         3.078e+05\n",
              "Df Residuals:                   31238   BIC:                         3.079e+05\n",
              "Df Model:                           9                                         \n",
              "Covariance Type:            nonrobust                                         \n",
              "=================================================================================\n",
              "                    coef    std err          t      P>|t|      [0.025      0.975]\n",
              "---------------------------------------------------------------------------------\n",
              "const          1108.2807     50.560     21.920      0.000    1009.182    1207.380\n",
              "month             0.4521      0.064      7.090      0.000       0.327       0.577\n",
              "hour              0.2171      0.028      7.623      0.000       0.161       0.273\n",
              "season            1.1469      0.215      5.322      0.000       0.725       1.569\n",
              "HUMI             -0.3386      0.013    -26.557      0.000      -0.364      -0.314\n",
              "PRES             -0.9856      0.049    -20.153      0.000      -1.081      -0.890\n",
              "TEMP             -2.0863      0.047    -44.617      0.000      -2.178      -1.995\n",
              "Iws              -0.6602      0.069     -9.521      0.000      -0.796      -0.524\n",
              "precipitation    -1.0354      0.213     -4.860      0.000      -1.453      -0.618\n",
              "Iprec            -0.3980      0.030    -13.096      0.000      -0.458      -0.338\n",
              "==============================================================================\n",
              "Omnibus:                     7307.885   Durbin-Watson:                   1.998\n",
              "Prob(Omnibus):                  0.000   Jarque-Bera (JB):            15679.301\n",
              "Skew:                           1.364   Prob(JB):                         0.00\n",
              "Kurtosis:                       5.144   Cond. No.                     2.73e+05\n",
              "==============================================================================\n",
              "\n",
              "Warnings:\n",
              "[1] Standard Errors assume that the covariance matrix of the errors is correctly specified.\n",
              "[2] The condition number is large, 2.73e+05. This might indicate that there are\n",
              "strong multicollinearity or other numerical problems.\n",
              "\"\"\""
            ]
          },
          "metadata": {},
          "execution_count": 87
        }
      ]
    },
    {
      "cell_type": "code",
      "metadata": {
        "id": "cPiJhf_3aCry",
        "colab": {
          "base_uri": "https://localhost:8080/",
          "height": 206
        },
        "outputId": "8ddb5d83-3305-4031-fcca-925bdd21b164"
      },
      "source": [
        "scaler = StandardScaler()\n",
        "scaler.fit(x_train)\n",
        "x_train_std = scaler.transform(x_train)\n",
        "x_test_std = scaler.transform(x_test)\n",
        "x_train_std = pd.DataFrame(x_train_std)\n",
        "x_test_std = pd.DataFrame(x_test_std)\n",
        "x_train_std.columns = list(x.columns)\n",
        "x_test_std.columns = list(x.columns)\n",
        "x_train_std.head()"
      ],
      "execution_count": null,
      "outputs": [
        {
          "output_type": "execute_result",
          "data": {
            "text/html": [
              "<div>\n",
              "<style scoped>\n",
              "    .dataframe tbody tr th:only-of-type {\n",
              "        vertical-align: middle;\n",
              "    }\n",
              "\n",
              "    .dataframe tbody tr th {\n",
              "        vertical-align: top;\n",
              "    }\n",
              "\n",
              "    .dataframe thead th {\n",
              "        text-align: right;\n",
              "    }\n",
              "</style>\n",
              "<table border=\"1\" class=\"dataframe\">\n",
              "  <thead>\n",
              "    <tr style=\"text-align: right;\">\n",
              "      <th></th>\n",
              "      <th>month</th>\n",
              "      <th>hour</th>\n",
              "      <th>season</th>\n",
              "      <th>HUMI</th>\n",
              "      <th>PRES</th>\n",
              "      <th>TEMP</th>\n",
              "      <th>Iws</th>\n",
              "      <th>precipitation</th>\n",
              "      <th>Iprec</th>\n",
              "    </tr>\n",
              "  </thead>\n",
              "  <tbody>\n",
              "    <tr>\n",
              "      <th>0</th>\n",
              "      <td>-0.448699</td>\n",
              "      <td>0.938457</td>\n",
              "      <td>-1.330744</td>\n",
              "      <td>-1.623054</td>\n",
              "      <td>-0.645981</td>\n",
              "      <td>0.584809</td>\n",
              "      <td>-0.009995</td>\n",
              "      <td>-0.140153</td>\n",
              "      <td>-0.135140</td>\n",
              "    </tr>\n",
              "    <tr>\n",
              "      <th>1</th>\n",
              "      <td>-0.157766</td>\n",
              "      <td>0.072445</td>\n",
              "      <td>-0.433571</td>\n",
              "      <td>1.040293</td>\n",
              "      <td>-0.424077</td>\n",
              "      <td>0.475702</td>\n",
              "      <td>-0.009995</td>\n",
              "      <td>-0.140153</td>\n",
              "      <td>-0.135140</td>\n",
              "    </tr>\n",
              "    <tr>\n",
              "      <th>2</th>\n",
              "      <td>1.587833</td>\n",
              "      <td>1.371463</td>\n",
              "      <td>1.360776</td>\n",
              "      <td>-0.240669</td>\n",
              "      <td>1.473206</td>\n",
              "      <td>-1.160914</td>\n",
              "      <td>-0.351511</td>\n",
              "      <td>-0.140153</td>\n",
              "      <td>-0.135140</td>\n",
              "    </tr>\n",
              "    <tr>\n",
              "      <th>3</th>\n",
              "      <td>1.296900</td>\n",
              "      <td>-1.370909</td>\n",
              "      <td>0.463603</td>\n",
              "      <td>1.345124</td>\n",
              "      <td>-0.424077</td>\n",
              "      <td>0.039271</td>\n",
              "      <td>-0.351511</td>\n",
              "      <td>2.677808</td>\n",
              "      <td>1.183489</td>\n",
              "    </tr>\n",
              "    <tr>\n",
              "      <th>4</th>\n",
              "      <td>-0.448699</td>\n",
              "      <td>0.216780</td>\n",
              "      <td>-1.330744</td>\n",
              "      <td>0.748910</td>\n",
              "      <td>-0.535029</td>\n",
              "      <td>0.584809</td>\n",
              "      <td>-0.009995</td>\n",
              "      <td>-0.140153</td>\n",
              "      <td>-0.135140</td>\n",
              "    </tr>\n",
              "  </tbody>\n",
              "</table>\n",
              "</div>"
            ],
            "text/plain": [
              "      month      hour    season  ...       Iws  precipitation     Iprec\n",
              "0 -0.448699  0.938457 -1.330744  ... -0.009995      -0.140153 -0.135140\n",
              "1 -0.157766  0.072445 -0.433571  ... -0.009995      -0.140153 -0.135140\n",
              "2  1.587833  1.371463  1.360776  ... -0.351511      -0.140153 -0.135140\n",
              "3  1.296900 -1.370909  0.463603  ... -0.351511       2.677808  1.183489\n",
              "4 -0.448699  0.216780 -1.330744  ... -0.009995      -0.140153 -0.135140\n",
              "\n",
              "[5 rows x 9 columns]"
            ]
          },
          "metadata": {},
          "execution_count": 88
        }
      ]
    },
    {
      "cell_type": "code",
      "metadata": {
        "id": "Vd7hU-XOS83S"
      },
      "source": [
        "x = x.drop('DEWP',axis = 1,inplace=False)"
      ],
      "execution_count": null,
      "outputs": []
    },
    {
      "cell_type": "code",
      "metadata": {
        "id": "9LvpPTb7XapW"
      },
      "source": [
        "x = x.drop('day',axis = 1,inplace=False)"
      ],
      "execution_count": null,
      "outputs": []
    },
    {
      "cell_type": "code",
      "metadata": {
        "id": "gDKP6KvYsVBB"
      },
      "source": [
        "x = x.drop('year',axis = 1,inplace=False)"
      ],
      "execution_count": null,
      "outputs": []
    },
    {
      "cell_type": "code",
      "metadata": {
        "id": "O_Xs1v6paHck",
        "colab": {
          "base_uri": "https://localhost:8080/",
          "height": 806
        },
        "outputId": "797e6267-7d69-487d-8a17-b92dde4fe205"
      },
      "source": [
        "# Inicijalizacija\n",
        "regression_model_std = LinearRegression()\n",
        "\n",
        "# Obuka modela\n",
        "regression_model_std.fit(x_train_std, y_train)\n",
        "\n",
        "# Testiranje\n",
        "y_predicted = regression_model_std.predict(x_test_std)\n",
        "\n",
        "# Evaluacija\n",
        "model_evaluation(y_test, y_predicted, x_train_std.shape[0], x_train_std.shape[1])\n",
        "\n",
        "\n",
        "# Ilustracija koeficijenata\n",
        "plt.figure(figsize=(10,5))\n",
        "plt.bar(range(len(regression_model_std.coef_)),regression_model_std.coef_)\n",
        "print(\"koeficijenti: \", regression_model_std.coef_)"
      ],
      "execution_count": null,
      "outputs": [
        {
          "output_type": "stream",
          "name": "stdout",
          "text": [
            "Mean squared error:  1044.0059129312635\n",
            "Mean absolute error:  24.570197285355132\n",
            "Root mean squared error:  32.31108034299168\n",
            "R2 score:  0.1443258281151758\n",
            "R2 adjusted score:  0.1440792992866028\n",
            "        y     y_pred\n",
            "0    11.0  41.201327\n",
            "1    68.0  70.540958\n",
            "2    27.0  39.159925\n",
            "3    32.0  42.401765\n",
            "4     6.0  40.134912\n",
            "5    14.0  50.259251\n",
            "6    66.0  63.382259\n",
            "7   146.0  61.724926\n",
            "8    24.0  44.097877\n",
            "9    78.0  54.972918\n",
            "10  104.0  56.770273\n",
            "11    6.0  39.909209\n",
            "12   80.0  52.159396\n",
            "13   34.0  46.396703\n",
            "14   31.0  64.728921\n",
            "15   40.0  51.140761\n",
            "16   31.0  39.733810\n",
            "17   32.0  37.410261\n",
            "18   21.0  56.722429\n",
            "19   44.0  39.813059\n",
            "koeficijenti:  [  1.55381141   1.50444104   1.27836298  -6.04337732  -8.88265385\n",
            " -19.12136219  -1.81097175  -1.02876447  -2.77686245]\n"
          ]
        },
        {
          "output_type": "display_data",
          "data": {
            "image/png": "[encoded data removed]",
            "text/plain": [
              "<Figure size 720x360 with 1 Axes>"
            ]
          },
          "metadata": {
            "needs_background": "light"
          }
        }
      ]
    },
    {
      "cell_type": "code",
      "metadata": {
        "colab": {
          "base_uri": "https://localhost:8080/",
          "height": 1000
        },
        "id": "C_WhU954Txuy",
        "outputId": "b3bcf300-a305-4a94-f7fc-d275248376f4"
      },
      "source": [
        "poly = PolynomialFeatures(degree=2, interaction_only=False, include_bias=False)\n",
        "x_inter_train = poly.fit_transform(x_train)\n",
        "x_inter_test = poly.transform(x_test)\n",
        "\n",
        "# Linearna regresija sa hipotezom y=b0+b1x1+b2x2+...+bnxn+c1x1x2+c2x1x3+...+d1x1^2+d2x2^2+...+dnxn^2\n",
        "\n",
        "# Inicijalizacija\n",
        "regression_model_degree = LinearRegression()\n",
        "\n",
        "# Obuka modela\n",
        "regression_model_degree.fit(x_inter_train, y_train)\n",
        "\n",
        "# Testiranje\n",
        "y_predicted = regression_model_degree.predict(x_inter_test)\n",
        "\n",
        "# Evaluacija\n",
        "model_evaluation(y_test, y_predicted, x_inter_train.shape[0], x_inter_train.shape[1])\n",
        "\n",
        "# Ilustracija koeficijenata\n",
        "plt.figure(figsize=(10,5))\n",
        "plt.bar(range(len(regression_model_degree.coef_)),regression_model_degree.coef_)\n",
        "print(\"koeficijenti: \", regression_model_degree.coef_)"
      ],
      "execution_count": null,
      "outputs": [
        {
          "output_type": "stream",
          "name": "stdout",
          "text": [
            "Mean squared error:  898.9823778468565\n",
            "Mean absolute error:  22.32330658040249\n",
            "Root mean squared error:  29.983034833833223\n",
            "R2 score:  0.26318807951636114\n",
            "R2 adjusted score:  0.261912541937221\n",
            "        y     y_pred\n",
            "0    11.0  26.703773\n",
            "1    68.0  68.741901\n",
            "2    27.0  27.053828\n",
            "3    32.0  39.627976\n",
            "4     6.0  27.693677\n",
            "5    14.0  41.814456\n",
            "6    66.0  59.208005\n",
            "7   146.0  49.433987\n",
            "8    24.0  44.843311\n",
            "9    78.0  48.371381\n",
            "10  104.0  60.339851\n",
            "11    6.0  32.589812\n",
            "12   80.0  49.788161\n",
            "13   34.0  43.774377\n",
            "14   31.0  54.421221\n",
            "15   40.0  59.035527\n",
            "16   31.0  34.114276\n",
            "17   32.0  50.220936\n",
            "18   21.0  61.442055\n",
            "19   44.0  27.566505\n",
            "koeficijenti:  [ 8.38282121e+01 -1.13365269e+01 -2.25516957e+02 -2.40580793e+01\n",
            "  1.94776826e+01 -5.64845880e+01 -1.00863903e+01 -6.06845197e+01\n",
            " -3.18542741e+01  1.98022526e+00  1.07083452e-02  4.40194703e-01\n",
            " -7.42739389e-03 -1.06007844e-01 -3.07756681e-01  3.31333265e-02\n",
            " -3.63197853e-01 -1.45739161e-02 -6.71812146e-03  6.57483364e-02\n",
            " -1.04707279e-02  1.19403586e-02  1.09272673e-02 -1.44028521e-02\n",
            " -2.23622003e-02  9.32649730e-03 -4.39446318e+00 -8.46495847e-02\n",
            "  2.43834230e-01 -1.98777328e-01  3.53225792e-02 -7.59132705e-01\n",
            "  6.13608730e-03 -4.46379559e-03  2.45528461e-02 -7.68684565e-03\n",
            "  3.00243739e-03  7.12448704e-02  9.39513828e-03 -1.14729094e-02\n",
            "  5.74503335e-02  3.88754504e-03  4.75376255e-02  2.79141155e-02\n",
            "  6.96966938e-03 -8.07990299e-04  4.22190963e-01  9.82580130e-02\n",
            "  3.50803022e-01  2.75018722e-02  1.19226945e-02 -1.75033313e-02\n",
            "  2.91448384e-02  2.43722639e-03]\n"
          ]
        },
        {
          "output_type": "display_data",
          "data": {
            "image/png": "[encoded data removed]",
            "text/plain": [
              "<Figure size 720x360 with 1 Axes>"
            ]
          },
          "metadata": {
            "needs_background": "light"
          }
        }
      ]
    },
    {
      "cell_type": "code",
      "metadata": {
        "id": "0IDgsButT1EJ",
        "colab": {
          "base_uri": "https://localhost:8080/",
          "height": 806
        },
        "outputId": "4644b38f-b7d9-4673-d73d-7d47db9ce1fa"
      },
      "source": [
        "poly = PolynomialFeatures(degree=5, interaction_only=False, include_bias=False)\n",
        "x_inter_train = poly.fit_transform(x_train)\n",
        "x_inter_test = poly.transform(x_test)\n",
        "\n",
        "# Linearna regresija sa hipotezom y=b0+b1x1+b2x2+...+bnxn+c1x1x2+c2x1x3+...+d1x1^2+d2x2^2+...+dnxn^2\n",
        "\n",
        "# Inicijalizacija\n",
        "regression_model_degree = LinearRegression()\n",
        "\n",
        "# Obuka modela\n",
        "regression_model_degree.fit(x_inter_train, y_train)\n",
        "\n",
        "# Testiranje\n",
        "y_predicted = regression_model_degree.predict(x_inter_test)\n",
        "\n",
        "# Evaluacija\n",
        "model_evaluation(y_test, y_predicted, x_inter_train.shape[0], x_inter_train.shape[1])\n",
        "\n",
        "# Ilustracija koeficijenata\n",
        "plt.figure(figsize=(10,5))\n",
        "plt.bar(range(len(regression_model_degree.coef_)),regression_model_degree.coef_)\n",
        "print(\"koeficijenti: \", regression_model_degree.coef_)"
      ],
      "execution_count": null,
      "outputs": [
        {
          "output_type": "stream",
          "name": "stdout",
          "text": [
            "Mean squared error:  231995635.0534065\n",
            "Mean absolute error:  351.18936198285724\n",
            "Root mean squared error:  15231.402924662143\n",
            "R2 score:  -190144.16148462408\n",
            "R2 adjusted score:  -203153.81983553473\n",
            "        y     y_pred\n",
            "0    11.0  35.932131\n",
            "1    68.0  67.572738\n",
            "2    27.0  11.730235\n",
            "3    32.0  47.609782\n",
            "4     6.0  17.009755\n",
            "5    14.0  32.415812\n",
            "6    66.0 -33.133551\n",
            "7   146.0  50.643877\n",
            "8    24.0  42.046476\n",
            "9    78.0  72.931411\n",
            "10  104.0  47.792796\n",
            "11    6.0  26.217514\n",
            "12   80.0  94.705458\n",
            "13   34.0  42.581031\n",
            "14   31.0  21.732095\n",
            "15   40.0  62.355437\n",
            "16   31.0  27.262162\n",
            "17   32.0  48.269876\n",
            "18   21.0  65.465542\n",
            "19   44.0  37.293767\n",
            "koeficijenti:  [-7.73188948e+00 -4.05868081e-04  5.70839984e-05 ... -1.68531037e-06\n",
            " -5.68885271e-07 -1.60743751e-07]\n"
          ]
        },
        {
          "output_type": "display_data",
          "data": {
            "image/png": "[encoded data removed]",
            "text/plain": [
              "<Figure size 720x360 with 1 Axes>"
            ]
          },
          "metadata": {
            "needs_background": "light"
          }
        }
      ]
    },
    {
      "cell_type": "code",
      "metadata": {
        "id": "Wgp0VOZkbzF0",
        "colab": {
          "base_uri": "https://localhost:8080/",
          "height": 1000
        },
        "outputId": "a9b04f10-017c-4050-9494-fef5c166e81f"
      },
      "source": [
        "poly = PolynomialFeatures(degree=2, interaction_only=False, include_bias=False)\n",
        "x_inter_train = poly.fit_transform(x_train)\n",
        "x_inter_test = poly.transform(x_test)\n",
        "\n",
        "#Ridge regresija\n",
        "\n",
        "# Inicijalizacija\n",
        "ridge_model = Ridge(alpha=7)\n",
        "\n",
        "# Obuka modela\n",
        "ridge_model.fit(x_inter_train, y_train)\n",
        "\n",
        "# Testiranje\n",
        "y_predicted = ridge_model.predict(x_inter_test)\n",
        "\n",
        "# Evaluacija\n",
        "model_evaluation(y_test, y_predicted, x_inter_train.shape[0], x_inter_train.shape[1])\n",
        "\n",
        "\n",
        "# Ilustracija koeficijenata\n",
        "plt.figure(figsize=(10,5))\n",
        "plt.bar(range(len(ridge_model.coef_)),ridge_model.coef_)\n",
        "print(\"koeficijenti: \", ridge_model.coef_)"
      ],
      "execution_count": null,
      "outputs": [
        {
          "output_type": "stream",
          "name": "stdout",
          "text": [
            "Mean squared error:  900.5528792757799\n",
            "Mean absolute error:  22.342472169051433\n",
            "Root mean squared error:  30.00921323986652\n",
            "R2 score:  0.2619008861269435\n",
            "R2 adjusted score:  0.26062312021314415\n",
            "        y     y_pred\n",
            "0    11.0  26.522871\n",
            "1    68.0  70.221190\n",
            "2    27.0  26.929029\n",
            "3    32.0  39.914120\n",
            "4     6.0  28.137480\n",
            "5    14.0  42.016347\n",
            "6    66.0  60.564998\n",
            "7   146.0  47.577226\n",
            "8    24.0  44.720154\n",
            "9    78.0  47.009086\n",
            "10  104.0  61.625728\n",
            "11    6.0  32.975016\n",
            "12   80.0  50.056047\n",
            "13   34.0  43.808751\n",
            "14   31.0  54.602231\n",
            "15   40.0  59.137865\n",
            "16   31.0  34.229803\n",
            "17   32.0  50.546416\n",
            "18   21.0  60.634130\n",
            "19   44.0  27.210012\n",
            "koeficijenti:  [ 1.99217452e+01 -1.05884965e+01 -6.45300859e+00 -2.28493526e+01\n",
            "  2.45999248e+01 -2.74857383e+01 -3.74467299e+00 -4.37697030e+00\n",
            " -2.46812558e+01  1.96771051e+00  9.62461489e-03  4.30608877e-01\n",
            " -2.52178649e-03 -4.41709018e-02 -2.52039057e-01  3.27171157e-02\n",
            " -2.66896686e-01 -8.17366403e-03 -6.44847561e-03  6.70819620e-02\n",
            " -1.03210137e-02  1.11938677e-02  1.06153775e-02 -1.47562600e-02\n",
            " -2.59919998e-02  8.83798097e-03 -4.07266397e+00 -1.11799648e-01\n",
            "  3.12037786e-02 -3.58912099e-01  4.08101090e-02 -7.76840543e-01\n",
            "  1.03619243e-02 -4.47693211e-03  2.34565183e-02 -1.08526189e-02\n",
            "  2.43495427e-03  6.08475704e-02  8.48449622e-03 -1.36289716e-02\n",
            "  2.98882186e-02 -2.24161597e-03 -6.61606853e-03  2.10604969e-02\n",
            " -1.28741848e-02 -5.21102025e-03  3.60275011e-01  8.80737486e-02\n",
            "  3.50535604e-01  3.36627410e-02  7.44878931e-03 -1.33890475e-02\n",
            "  2.39328908e-02  2.50580624e-03]\n"
          ]
        },
        {
          "output_type": "display_data",
          "data": {
            "image/png": "[encoded data removed]",
            "text/plain": [
              "<Figure size 720x360 with 1 Axes>"
            ]
          },
          "metadata": {
            "needs_background": "light"
          }
        }
      ]
    },
    {
      "cell_type": "code",
      "metadata": {
        "id": "Wua0rPrGb74E",
        "colab": {
          "base_uri": "https://localhost:8080/",
          "height": 1000
        },
        "outputId": "c4bc10f0-cb87-4f2c-e200-d10de5f3879a"
      },
      "source": [
        "#Lasso regresija\n",
        "\n",
        "# Inicijalizacija\n",
        "lasso_model = Lasso(alpha=0.01)\n",
        "\n",
        "# Obuka modela\n",
        "lasso_model.fit(x_inter_train, y_train)\n",
        "\n",
        "# Testiranje\n",
        "y_predicted = lasso_model.predict(x_inter_test)\n",
        "\n",
        "# Evaluacija\n",
        "model_evaluation(y_test, y_predicted, x_inter_train.shape[0], x_inter_train.shape[1])\n",
        "\n",
        "\n",
        "#ilustracija koeficijenata\n",
        "plt.figure(figsize=(10,5))\n",
        "plt.bar(range(len(lasso_model.coef_)),lasso_model.coef_)\n",
        "print(\"koeficijenti: \", lasso_model.coef_)"
      ],
      "execution_count": null,
      "outputs": [
        {
          "output_type": "stream",
          "name": "stderr",
          "text": [
            "/usr/local/lib/python3.7/dist-packages/sklearn/linear_model/_coordinate_descent.py:648: ConvergenceWarning: Objective did not converge. You might want to increase the number of iterations, check the scale of the features or consider increasing regularisation. Duality gap: 1.504e+07, tolerance: 4.045e+03\n",
            "  coef_, l1_reg, l2_reg, X, y, max_iter, tol, rng, random, positive\n"
          ]
        },
        {
          "output_type": "stream",
          "name": "stdout",
          "text": [
            "Mean squared error:  905.5269988601339\n",
            "Mean absolute error:  22.468979450683868\n",
            "Root mean squared error:  30.091975655648366\n",
            "R2 score:  0.25782406471867403\n",
            "R2 adjusted score:  0.2565392411843813\n",
            "        y     y_pred\n",
            "0    11.0  26.464583\n",
            "1    68.0  74.162822\n",
            "2    27.0  25.730076\n",
            "3    32.0  39.373139\n",
            "4     6.0  32.060259\n",
            "5    14.0  42.360204\n",
            "6    66.0  63.968139\n",
            "7   146.0  51.341071\n",
            "8    24.0  45.985781\n",
            "9    78.0  48.648729\n",
            "10  104.0  65.925414\n",
            "11    6.0  35.227571\n",
            "12   80.0  54.187507\n",
            "13   34.0  44.285581\n",
            "14   31.0  53.826704\n",
            "15   40.0  58.590227\n",
            "16   31.0  34.579670\n",
            "17   32.0  49.676808\n",
            "18   21.0  61.308467\n",
            "19   44.0  25.481557\n",
            "koeficijenti:  [ 2.88276275e+00  2.65876834e-01  1.21333311e+01 -6.13851519e-01\n",
            "  2.48539539e+00  1.35424619e+00 -4.73293354e+00 -3.04759269e+00\n",
            " -2.05055773e+00  1.93414898e+00  9.35814558e-03 -1.74033922e-01\n",
            " -6.53761455e-04 -2.48925132e-02 -2.44470850e-01  2.87065348e-02\n",
            " -1.91705833e-01  1.32237401e-02 -3.50508085e-03  7.31752446e-02\n",
            " -1.18441901e-02  6.66731309e-04  3.62928814e-03 -1.57701288e-02\n",
            " -3.43811826e-02  9.21736836e-03 -1.42499532e+00 -7.96739661e-02\n",
            " -1.54209977e-03 -1.90145398e-01  3.37106656e-02 -8.02545273e-01\n",
            "  1.94007321e-02 -6.43421768e-03  2.08848142e-03 -2.96469875e-02\n",
            "  2.20393145e-03  4.01046037e-02  2.60871402e-03 -1.74274443e-03\n",
            "  3.10369355e-03 -1.32361563e-03 -5.70966336e-03 -3.41447966e-04\n",
            " -3.23710634e-02 -2.39529055e-03  3.19805895e-01  5.44863201e-02\n",
            "  3.54752238e-01  4.67806740e-02 -3.51990262e-03  2.42566162e-03\n",
            "  1.76165144e-02  2.78153500e-03]\n"
          ]
        },
        {
          "output_type": "display_data",
          "data": {
            "image/png": "[encoded data removed]",
            "text/plain": [
              "<Figure size 720x360 with 1 Axes>"
            ]
          },
          "metadata": {
            "needs_background": "light"
          }
        }
      ]
    }
  ]
}